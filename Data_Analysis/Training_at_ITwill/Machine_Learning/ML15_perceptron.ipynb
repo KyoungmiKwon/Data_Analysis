{
  "nbformat": 4,
  "nbformat_minor": 0,
  "metadata": {
    "colab": {
      "name": "ML15_perceptron.ipynb",
      "provenance": [],
      "collapsed_sections": [],
      "mount_file_id": "1j0UchIDShnDk9P3IX14RMgcRJ7F-NZZB",
      "authorship_tag": "ABX9TyN9Hru9w5Kve97wo5o1t/TP",
      "include_colab_link": true
    },
    "kernelspec": {
      "name": "python3",
      "display_name": "Python 3"
    },
    "language_info": {
      "name": "python"
    }
  },
  "cells": [
    {
      "cell_type": "markdown",
      "metadata": {
        "id": "view-in-github",
        "colab_type": "text"
      },
      "source": [
        "<a href=\"https://colab.research.google.com/github/KyoungmiKwon/Data_Analysis/blob/main/Data_Analysis/Training_at_ITwill/Machine_Learning/ML15_perceptron.ipynb\" target=\"_parent\"><img src=\"https://colab.research.google.com/assets/colab-badge.svg\" alt=\"Open In Colab\"/></a>"
      ]
    },
    {
      "cell_type": "markdown",
      "metadata": {
        "id": "5AiUjdWXnVlP"
      },
      "source": [
        "# import"
      ]
    },
    {
      "cell_type": "code",
      "metadata": {
        "id": "-ItrqNsTmfBm"
      },
      "source": [
        "import numpy as np\n",
        "import matplotlib.pyplot as plt\n",
        "from scipy.special import expit # sigmoid\n",
        "\n",
        "from sklearn.datasets import load_iris\n",
        "from sklearn.model_selection import train_test_split\n",
        "from sklearn.linear_model import Perceptron, SGDClassifier\n",
        "\n",
        "import pickle"
      ],
      "execution_count": null,
      "outputs": []
    },
    {
      "cell_type": "markdown",
      "metadata": {
        "id": "biYkWfdnngu9"
      },
      "source": [
        "# Perceptron\n",
        "\n",
        "[인공 신경망과 딥 러닝 - SciKit-Learn](http://naver.me/GSkrHT1v)"
      ]
    },
    {
      "cell_type": "code",
      "metadata": {
        "id": "2kRaXloYndJA"
      },
      "source": [
        "x = np.array([1,2])\n",
        "w = np.array([0.1,0.2])"
      ],
      "execution_count": null,
      "outputs": []
    },
    {
      "cell_type": "code",
      "metadata": {
        "colab": {
          "base_uri": "https://localhost:8080/"
        },
        "id": "_5kg9gTRqHPX",
        "outputId": "c5c48b3c-21e8-4ca0-d112-52f00eb9b36b"
      },
      "source": [
        "x * w"
      ],
      "execution_count": null,
      "outputs": [
        {
          "output_type": "execute_result",
          "data": {
            "text/plain": [
              "array([0.1, 0.4])"
            ]
          },
          "metadata": {
            "tags": []
          },
          "execution_count": 13
        }
      ]
    },
    {
      "cell_type": "code",
      "metadata": {
        "colab": {
          "base_uri": "https://localhost:8080/"
        },
        "id": "Ak_xdQvHqJIM",
        "outputId": "842b790e-0b72-468b-f373-fb662e8f3946"
      },
      "source": [
        "np.sum(x * w)"
      ],
      "execution_count": null,
      "outputs": [
        {
          "output_type": "execute_result",
          "data": {
            "text/plain": [
              "0.5"
            ]
          },
          "metadata": {
            "tags": []
          },
          "execution_count": 14
        }
      ]
    },
    {
      "cell_type": "code",
      "metadata": {
        "colab": {
          "base_uri": "https://localhost:8080/"
        },
        "id": "x74GnqAYqv18",
        "outputId": "7a6af2c9-896e-4ec8-ca13-b0756bc7bd9b"
      },
      "source": [
        "np.dot(x,w)"
      ],
      "execution_count": null,
      "outputs": [
        {
          "output_type": "execute_result",
          "data": {
            "text/plain": [
              "0.5"
            ]
          },
          "metadata": {
            "tags": []
          },
          "execution_count": 15
        }
      ]
    },
    {
      "cell_type": "markdown",
      "metadata": {
        "id": "s6Omd_qVvThZ"
      },
      "source": [
        "## AND Gate\n",
        "\n",
        "[Perceptron Intro](https://blog.naver.com/beadsryung/222276215850)"
      ]
    },
    {
      "cell_type": "markdown",
      "metadata": {
        "id": "us9SPiZavYN5"
      },
      "source": [
        "| $x_1$ | $x_2$ | $y$ |\n",
        "|--|--|--|\n",
        "|0 |0 |0 |\n",
        "|1 |0 |0 |\n",
        "|0 |1 |0 |\n",
        "|1|1 |1 |"
      ]
    },
    {
      "cell_type": "code",
      "metadata": {
        "id": "WhWHvk_RvRa6"
      },
      "source": [
        "def and_gate(x1,x2):\n",
        "    w1,w2, th = 0.5,0.5,0.7\n",
        "    result = x1 * w1 + x2 * w2\n",
        "    if result > th :\n",
        "        y = 1\n",
        "    else:\n",
        "        y = 0\n",
        "    return y"
      ],
      "execution_count": null,
      "outputs": []
    },
    {
      "cell_type": "code",
      "metadata": {
        "colab": {
          "base_uri": "https://localhost:8080/"
        },
        "id": "kvb3ollmxmM5",
        "outputId": "f7f0dad0-ee79-429e-8336-a43a3a9dd03e"
      },
      "source": [
        "and_gate(0,0)"
      ],
      "execution_count": null,
      "outputs": [
        {
          "output_type": "execute_result",
          "data": {
            "text/plain": [
              "0"
            ]
          },
          "metadata": {
            "tags": []
          },
          "execution_count": 17
        }
      ]
    },
    {
      "cell_type": "code",
      "metadata": {
        "colab": {
          "base_uri": "https://localhost:8080/"
        },
        "id": "MeXIHyznx3do",
        "outputId": "ba67eae8-bcc5-4638-d7b8-33b8fb1830c5"
      },
      "source": [
        "and_gate(1,0)"
      ],
      "execution_count": null,
      "outputs": [
        {
          "output_type": "execute_result",
          "data": {
            "text/plain": [
              "0"
            ]
          },
          "metadata": {
            "tags": []
          },
          "execution_count": 18
        }
      ]
    },
    {
      "cell_type": "code",
      "metadata": {
        "colab": {
          "base_uri": "https://localhost:8080/"
        },
        "id": "h3XpxmwMx50Y",
        "outputId": "9d772e66-a681-4a5e-b653-da6033c8c2b7"
      },
      "source": [
        "and_gate(0,1)"
      ],
      "execution_count": null,
      "outputs": [
        {
          "output_type": "execute_result",
          "data": {
            "text/plain": [
              "0"
            ]
          },
          "metadata": {
            "tags": []
          },
          "execution_count": 19
        }
      ]
    },
    {
      "cell_type": "code",
      "metadata": {
        "colab": {
          "base_uri": "https://localhost:8080/"
        },
        "id": "Z4ZzlEE6x6_o",
        "outputId": "c88f6eba-037a-4b78-c1ca-19b7d0b090a4"
      },
      "source": [
        "and_gate(1,1)"
      ],
      "execution_count": null,
      "outputs": [
        {
          "output_type": "execute_result",
          "data": {
            "text/plain": [
              "1"
            ]
          },
          "metadata": {
            "tags": []
          },
          "execution_count": 20
        }
      ]
    },
    {
      "cell_type": "code",
      "metadata": {
        "id": "Ao27tH6jzMzA"
      },
      "source": [
        "def and_gate(x1,x2):\n",
        "    w1,w2, th = 0.1,0.1,0.1\n",
        "    result = x1 * w1 + x2 * w2\n",
        "    y = 1 if result > th else 0\n",
        "    return y"
      ],
      "execution_count": null,
      "outputs": []
    },
    {
      "cell_type": "markdown",
      "metadata": {
        "id": "X1dRpgWx18Mx"
      },
      "source": [
        "AND 게이트를 만들 수 있는 가중치(w1,w2), 임계값(threshold)는 무수히 많은 조합이 있을 수 있음"
      ]
    },
    {
      "cell_type": "code",
      "metadata": {
        "id": "Or6Lf9uGzir0"
      },
      "source": [
        "def and_gate2(x):\n",
        "    \"\"\"x는 원소가 2개인 1차원 배열. AND 논리 연산이 결과를 리턴.\"\"\"\n",
        "    w = np.array([0.5,0.5])\n",
        "    th = 0.7\n",
        "    y = 1 if np.sum(x*w) > th else 0\n",
        "    return y"
      ],
      "execution_count": null,
      "outputs": []
    },
    {
      "cell_type": "code",
      "metadata": {
        "colab": {
          "base_uri": "https://localhost:8080/"
        },
        "id": "8ifbJQRd2m5P",
        "outputId": "03b38970-efa6-4bab-9572-1c2b53d92a00"
      },
      "source": [
        "and_gate2(np.array([0,0]))"
      ],
      "execution_count": null,
      "outputs": [
        {
          "output_type": "execute_result",
          "data": {
            "text/plain": [
              "0"
            ]
          },
          "metadata": {
            "tags": []
          },
          "execution_count": 23
        }
      ]
    },
    {
      "cell_type": "code",
      "metadata": {
        "colab": {
          "base_uri": "https://localhost:8080/"
        },
        "id": "LuB1CdxY2xWW",
        "outputId": "36a829a8-98f9-4dcb-a9a2-268c05f7b279"
      },
      "source": [
        "and_gate2(np.array([0,1]))"
      ],
      "execution_count": null,
      "outputs": [
        {
          "output_type": "execute_result",
          "data": {
            "text/plain": [
              "0"
            ]
          },
          "metadata": {
            "tags": []
          },
          "execution_count": 24
        }
      ]
    },
    {
      "cell_type": "code",
      "metadata": {
        "colab": {
          "base_uri": "https://localhost:8080/"
        },
        "id": "R0QVDp1i20sO",
        "outputId": "c3090742-7b11-44fe-c7ec-3beaa5dec46c"
      },
      "source": [
        "and_gate2(np.array([1,0]))"
      ],
      "execution_count": null,
      "outputs": [
        {
          "output_type": "execute_result",
          "data": {
            "text/plain": [
              "0"
            ]
          },
          "metadata": {
            "tags": []
          },
          "execution_count": 25
        }
      ]
    },
    {
      "cell_type": "code",
      "metadata": {
        "colab": {
          "base_uri": "https://localhost:8080/"
        },
        "id": "mM2B3YHI23cG",
        "outputId": "a1d31567-0a7d-4df3-a785-05cd10c83d05"
      },
      "source": [
        "and_gate2(np.array([1,1]))"
      ],
      "execution_count": null,
      "outputs": [
        {
          "output_type": "execute_result",
          "data": {
            "text/plain": [
              "1"
            ]
          },
          "metadata": {
            "tags": []
          },
          "execution_count": 26
        }
      ]
    },
    {
      "cell_type": "code",
      "metadata": {
        "id": "KNRoNV6V3mg9"
      },
      "source": [
        "def and_gate3(X):\n",
        "    \"\"\" X는 컬럼이 2개인 2차원 배열. 즉 shape은 (-1,2). AND 논리 연산 결과를 리턴\"\"\"\n",
        "    w = np.array([0.5,0.5])\n",
        "    th = 0.7\n",
        "    y = (np.dot(X,w)> th).astype(np.int_)\n",
        "    return y\n"
      ],
      "execution_count": null,
      "outputs": []
    },
    {
      "cell_type": "code",
      "metadata": {
        "id": "Acvy1h635OZ7"
      },
      "source": [
        "X = np.array([[0,0],\n",
        "              [0,1],\n",
        "              [1,0],\n",
        "              [1,1]])"
      ],
      "execution_count": null,
      "outputs": []
    },
    {
      "cell_type": "code",
      "metadata": {
        "colab": {
          "base_uri": "https://localhost:8080/"
        },
        "id": "EpPqoQhV5YOG",
        "outputId": "27a5c5ff-5933-45a3-fa42-83e8ece33952"
      },
      "source": [
        "and_gate3(X)"
      ],
      "execution_count": null,
      "outputs": [
        {
          "output_type": "execute_result",
          "data": {
            "text/plain": [
              "array([0, 0, 0, 1])"
            ]
          },
          "metadata": {
            "tags": []
          },
          "execution_count": 29
        }
      ]
    },
    {
      "cell_type": "code",
      "metadata": {
        "id": "Ch8FhmWMA51p"
      },
      "source": [
        "def and_gate4(X):\n",
        "    \"\"\" X는 컬럼이 2개인 2차원 배열. 즉 shape은 (-1,2). AND 논리 연산 결과를 리턴\"\"\"\n",
        "    w = np.array([0.5,0.5])\n",
        "    b = -0.7\n",
        "    result = np.dot(X,w) + b\n",
        "    y = result > 0\n",
        "    return y.astype(np.int_)"
      ],
      "execution_count": null,
      "outputs": []
    },
    {
      "cell_type": "code",
      "metadata": {
        "colab": {
          "base_uri": "https://localhost:8080/"
        },
        "id": "-ZElJjL9BQGA",
        "outputId": "57b98bb4-e2ad-4014-e431-3d9bacf9aecc"
      },
      "source": [
        "and_gate4(X)"
      ],
      "execution_count": null,
      "outputs": [
        {
          "output_type": "execute_result",
          "data": {
            "text/plain": [
              "array([0, 0, 0, 1])"
            ]
          },
          "metadata": {
            "tags": []
          },
          "execution_count": 31
        }
      ]
    },
    {
      "cell_type": "code",
      "metadata": {
        "colab": {
          "base_uri": "https://localhost:8080/"
        },
        "id": "tQS6HwwjEsD3",
        "outputId": "0273006a-8764-4f09-c038-c2fe448f1394"
      },
      "source": [
        "X.shape"
      ],
      "execution_count": null,
      "outputs": [
        {
          "output_type": "execute_result",
          "data": {
            "text/plain": [
              "(4, 2)"
            ]
          },
          "metadata": {
            "tags": []
          },
          "execution_count": 32
        }
      ]
    },
    {
      "cell_type": "code",
      "metadata": {
        "colab": {
          "base_uri": "https://localhost:8080/"
        },
        "id": "Rj3J-tqzEz7_",
        "outputId": "71ed1e28-4307-4748-fdc0-313638325056"
      },
      "source": [
        "len(X)"
      ],
      "execution_count": null,
      "outputs": [
        {
          "output_type": "execute_result",
          "data": {
            "text/plain": [
              "4"
            ]
          },
          "metadata": {
            "tags": []
          },
          "execution_count": 33
        }
      ]
    },
    {
      "cell_type": "code",
      "metadata": {
        "colab": {
          "base_uri": "https://localhost:8080/"
        },
        "id": "tD_72-q5Ejwf",
        "outputId": "683a6895-433d-4057-a768-b6089a191a30"
      },
      "source": [
        "np.ones(4).shape"
      ],
      "execution_count": null,
      "outputs": [
        {
          "output_type": "execute_result",
          "data": {
            "text/plain": [
              "(4,)"
            ]
          },
          "metadata": {
            "tags": []
          },
          "execution_count": 34
        }
      ]
    },
    {
      "cell_type": "code",
      "metadata": {
        "colab": {
          "base_uri": "https://localhost:8080/"
        },
        "id": "r6bg7qZ7E9-X",
        "outputId": "054a35fb-1e69-4246-e4a7-fe4c296d36ac"
      },
      "source": [
        "np.ones(4)"
      ],
      "execution_count": null,
      "outputs": [
        {
          "output_type": "execute_result",
          "data": {
            "text/plain": [
              "array([1., 1., 1., 1.])"
            ]
          },
          "metadata": {
            "tags": []
          },
          "execution_count": 35
        }
      ]
    },
    {
      "cell_type": "code",
      "metadata": {
        "colab": {
          "base_uri": "https://localhost:8080/"
        },
        "id": "YYQvc3HzFHhn",
        "outputId": "7b683d15-cf85-4fa0-b893-9c5174df34ee"
      },
      "source": [
        "np.array([-0.7,0.5,0.5])"
      ],
      "execution_count": null,
      "outputs": [
        {
          "output_type": "execute_result",
          "data": {
            "text/plain": [
              "array([-0.7,  0.5,  0.5])"
            ]
          },
          "metadata": {
            "tags": []
          },
          "execution_count": 36
        }
      ]
    },
    {
      "cell_type": "code",
      "metadata": {
        "colab": {
          "base_uri": "https://localhost:8080/"
        },
        "id": "q8TinWC9FKAH",
        "outputId": "48c38e38-ac83-4e35-8dc0-ed6f9e397a21"
      },
      "source": [
        "a = np.c_[np.ones(4),X]\n",
        "a"
      ],
      "execution_count": null,
      "outputs": [
        {
          "output_type": "execute_result",
          "data": {
            "text/plain": [
              "array([[1., 0., 0.],\n",
              "       [1., 0., 1.],\n",
              "       [1., 1., 0.],\n",
              "       [1., 1., 1.]])"
            ]
          },
          "metadata": {
            "tags": []
          },
          "execution_count": 37
        }
      ]
    },
    {
      "cell_type": "code",
      "metadata": {
        "colab": {
          "base_uri": "https://localhost:8080/"
        },
        "id": "j77oyrjVFVG-",
        "outputId": "69dd4993-16f5-44a7-9a91-6e79e98c2ee2"
      },
      "source": [
        "np.dot(a,np.array([-0.7,0.5,0.5]))"
      ],
      "execution_count": null,
      "outputs": [
        {
          "output_type": "execute_result",
          "data": {
            "text/plain": [
              "array([-0.7, -0.2, -0.2,  0.3])"
            ]
          },
          "metadata": {
            "tags": []
          },
          "execution_count": 38
        }
      ]
    },
    {
      "cell_type": "code",
      "metadata": {
        "colab": {
          "base_uri": "https://localhost:8080/"
        },
        "id": "AZkdm2vXFtkI",
        "outputId": "ff379c07-5ce4-4654-dabd-b38545cfa47e"
      },
      "source": [
        "np.dot(a,np.array([-0.7,0.5,0.5]))> 0"
      ],
      "execution_count": null,
      "outputs": [
        {
          "output_type": "execute_result",
          "data": {
            "text/plain": [
              "array([False, False, False,  True])"
            ]
          },
          "metadata": {
            "tags": []
          },
          "execution_count": 39
        }
      ]
    },
    {
      "cell_type": "code",
      "metadata": {
        "id": "CSJe7XEYBVGR"
      },
      "source": [
        "def and_gate5(X):\n",
        "    w_bias = np.array([-0.7,0.5,0.5]) # bias를 포함한 weight:(bias,w1,w2)\n",
        "    n = len(X)\n",
        "    X_bias = np.c_[np.ones(n),X] # bias에는 1이 곱해짐\n",
        "    result = np.dot(X_bias, w_bias) # X_bias @ w_bias\n",
        "    y = result > 0\n",
        "    return y.astype(np.int_)"
      ],
      "execution_count": null,
      "outputs": []
    },
    {
      "cell_type": "code",
      "metadata": {
        "colab": {
          "base_uri": "https://localhost:8080/"
        },
        "id": "NDLHk1m1EIqI",
        "outputId": "73bc81cc-3e0c-4259-c19d-75405224cab7"
      },
      "source": [
        "and_gate5(X)"
      ],
      "execution_count": null,
      "outputs": [
        {
          "output_type": "execute_result",
          "data": {
            "text/plain": [
              "array([0, 0, 0, 1])"
            ]
          },
          "metadata": {
            "tags": []
          },
          "execution_count": 41
        }
      ]
    },
    {
      "cell_type": "markdown",
      "metadata": {
        "id": "fAOOTU4yF2rX"
      },
      "source": [
        "# NAND Gate"
      ]
    },
    {
      "cell_type": "markdown",
      "metadata": {
        "id": "BxjR_G9-GFoo"
      },
      "source": [
        "| $x_1$ | $x_2$ | $y$ |\n",
        "|--|--|--|\n",
        "|0 |0 |1 |\n",
        "|1 |0 |1 |\n",
        "|0 |1 |1 |\n",
        "|1|1 |0 |"
      ]
    },
    {
      "cell_type": "code",
      "metadata": {
        "id": "UsZ8L4BkGFbP"
      },
      "source": [
        "def nand_gate(X):\n",
        "    w_bias = np.array([0.7,-0.5,-0.5]) # bias를 포함한 weight:(bias,w1,w2)\n",
        "    n = len(X)\n",
        "    X_bias = np.c_[np.ones(n),X] # bias에는 1이 곱해짐\n",
        "    result = np.dot(X_bias, w_bias) # X_bias @ w_bias\n",
        "    y = result > 0\n",
        "    return y.astype(np.int_)"
      ],
      "execution_count": null,
      "outputs": []
    },
    {
      "cell_type": "code",
      "metadata": {
        "colab": {
          "base_uri": "https://localhost:8080/"
        },
        "id": "1Qk28KxFGxGu",
        "outputId": "70a5ca55-7309-438e-93d5-5d9279d7014d"
      },
      "source": [
        "nand_gate(X)"
      ],
      "execution_count": null,
      "outputs": [
        {
          "output_type": "execute_result",
          "data": {
            "text/plain": [
              "array([1, 1, 1, 0])"
            ]
          },
          "metadata": {
            "tags": []
          },
          "execution_count": 43
        }
      ]
    },
    {
      "cell_type": "markdown",
      "metadata": {
        "id": "CD84ApWEGMg3"
      },
      "source": [
        "# OR Gate"
      ]
    },
    {
      "cell_type": "markdown",
      "metadata": {
        "id": "AEFnD8X4GSWO"
      },
      "source": [
        "| $x_1$ | $x_2$ | $y$ |\n",
        "|--|--|--|\n",
        "|0 |0 |0 |\n",
        "|1 |0 |1|\n",
        "|0 |1 |1 |\n",
        "|1|1 |1|"
      ]
    },
    {
      "cell_type": "code",
      "metadata": {
        "id": "ysIcBUU6GQqe"
      },
      "source": [
        "def or_gate(X):\n",
        "    w_bias = np.array([-0.4,0.5,0.5]) # bias를 포함한 weight:(bias,w1,w2)\n",
        "    n = len(X)\n",
        "    X_bias = np.c_[np.ones(n),X] # bias에는 1이 곱해짐\n",
        "    result = np.dot(X_bias, w_bias) # X_bias @ w_bias\n",
        "    y = result > 0\n",
        "    return y.astype(np.int_)"
      ],
      "execution_count": null,
      "outputs": []
    },
    {
      "cell_type": "code",
      "metadata": {
        "colab": {
          "base_uri": "https://localhost:8080/"
        },
        "id": "V1I6wi9FHM-G",
        "outputId": "bcc6a293-4447-4116-9db2-82eb70b57fea"
      },
      "source": [
        "or_gate(X)"
      ],
      "execution_count": null,
      "outputs": [
        {
          "output_type": "execute_result",
          "data": {
            "text/plain": [
              "array([0, 1, 1, 1])"
            ]
          },
          "metadata": {
            "tags": []
          },
          "execution_count": 45
        }
      ]
    },
    {
      "cell_type": "markdown",
      "metadata": {
        "id": "X0yPZ6MWGbPH"
      },
      "source": [
        "# XOR(Exclusive)"
      ]
    },
    {
      "cell_type": "markdown",
      "metadata": {
        "id": "PKOOcWOcGjl-"
      },
      "source": [
        "| $x_1$ | $x_2$ | NAND ($y_1$)|OR($y_1$)|XOR($z$)\n",
        "|--|--|--|--|--|\n",
        "|0 |0 |1|0|0|\n",
        "|1 |0 |1 |1|1|\n",
        "|0 |1 |1 |1|1|\n",
        "|1|1 |0 |1|0|"
      ]
    },
    {
      "cell_type": "code",
      "metadata": {
        "colab": {
          "base_uri": "https://localhost:8080/"
        },
        "id": "IkpFBfj4G8le",
        "outputId": "2d499c1e-c797-4caa-ae3b-f2af96443913"
      },
      "source": [
        "np.dot(a,np.array([-0.4,0.5,0.5]))>0"
      ],
      "execution_count": null,
      "outputs": [
        {
          "output_type": "execute_result",
          "data": {
            "text/plain": [
              "array([False,  True,  True,  True])"
            ]
          },
          "metadata": {
            "tags": []
          },
          "execution_count": 46
        }
      ]
    },
    {
      "cell_type": "code",
      "metadata": {
        "colab": {
          "base_uri": "https://localhost:8080/"
        },
        "id": "1JcgUxoOTA9z",
        "outputId": "4f1a14ad-0a77-4a53-f3e2-741091e20e78"
      },
      "source": [
        "y1 = nand_gate(X)\n",
        "y2 = or_gate(X)\n",
        "Y = np.c_[y1,y2]\n",
        "Y"
      ],
      "execution_count": null,
      "outputs": [
        {
          "output_type": "execute_result",
          "data": {
            "text/plain": [
              "array([[1, 0],\n",
              "       [1, 1],\n",
              "       [1, 1],\n",
              "       [0, 1]])"
            ]
          },
          "metadata": {
            "tags": []
          },
          "execution_count": 47
        }
      ]
    },
    {
      "cell_type": "code",
      "metadata": {
        "id": "OoItw1FEF_T-"
      },
      "source": [
        "def xor_gate(X):\n",
        "    y1 = nand_gate(X)\n",
        "    y2 = or_gate(X)\n",
        "    Y = np.c_[y1,y2]\n",
        "    z = and_gate5(Y)\n",
        "    return z"
      ],
      "execution_count": null,
      "outputs": []
    },
    {
      "cell_type": "code",
      "metadata": {
        "colab": {
          "base_uri": "https://localhost:8080/"
        },
        "id": "EuzojxknGD9T",
        "outputId": "53f4d3c7-249f-45e1-c3e3-bd67748d517e"
      },
      "source": [
        "xor_gate(X)"
      ],
      "execution_count": null,
      "outputs": [
        {
          "output_type": "execute_result",
          "data": {
            "text/plain": [
              "array([0, 1, 1, 0])"
            ]
          },
          "metadata": {
            "tags": []
          },
          "execution_count": 49
        }
      ]
    },
    {
      "cell_type": "markdown",
      "metadata": {
        "id": "AId7_eobDQE2"
      },
      "source": [
        "# Activation Function(활성화 함수)"
      ]
    },
    {
      "cell_type": "markdown",
      "metadata": {
        "id": "Sh6HzEVbG06D"
      },
      "source": [
        "활성화 함수를 사용하는 이유:\n",
        "1. 출력층에서 출력값을 특정 값 (예:0,1) 또는 특정 값의 범위(예: 0 ~ 1)로 제한하기 위해서\n",
        "2. 여러 층을 쌓는 다층 신경망(multi-layer neural network, deep neural network)에서 활성화 함수를 사용하지 않으면 단일 신경망과 동일해 지기 때문에."
      ]
    },
    {
      "cell_type": "markdown",
      "metadata": {
        "id": "Xa5cTOhIH6zX"
      },
      "source": [
        "## Step function(계산 함수)"
      ]
    },
    {
      "cell_type": "code",
      "metadata": {
        "id": "PHA7I1ZdH6LQ"
      },
      "source": [
        "def step(x):\n",
        "    # y = 1 if x>0 else 0\n",
        "    y = x > 0\n",
        "    return y.astype(np.int)"
      ],
      "execution_count": null,
      "outputs": []
    },
    {
      "cell_type": "code",
      "metadata": {
        "id": "5eA2YAe8Jcdi"
      },
      "source": [
        "x = np.arange(-5,5,0.001)\n",
        "y = step(x)"
      ],
      "execution_count": null,
      "outputs": []
    },
    {
      "cell_type": "code",
      "metadata": {
        "colab": {
          "base_uri": "https://localhost:8080/"
        },
        "id": "XA-RzVYKJobO",
        "outputId": "35c9dac8-cedc-4bf3-cb24-625c853a0a11"
      },
      "source": [
        "print(x[:10])\n",
        "print(y[:10])"
      ],
      "execution_count": null,
      "outputs": [
        {
          "output_type": "stream",
          "text": [
            "[-5.    -4.999 -4.998 -4.997 -4.996 -4.995 -4.994 -4.993 -4.992 -4.991]\n",
            "[0 0 0 0 0 0 0 0 0 0]\n"
          ],
          "name": "stdout"
        }
      ]
    },
    {
      "cell_type": "code",
      "metadata": {
        "colab": {
          "base_uri": "https://localhost:8080/"
        },
        "id": "tdhToogVJwzd",
        "outputId": "51debcce-3a69-4b81-d94b-251b516b0982"
      },
      "source": [
        "print(x[-10:])\n",
        "print(y[-10:])"
      ],
      "execution_count": null,
      "outputs": [
        {
          "output_type": "stream",
          "text": [
            "[4.99  4.991 4.992 4.993 4.994 4.995 4.996 4.997 4.998 4.999]\n",
            "[1 1 1 1 1 1 1 1 1 1]\n"
          ],
          "name": "stdout"
        }
      ]
    },
    {
      "cell_type": "code",
      "metadata": {
        "colab": {
          "base_uri": "https://localhost:8080/",
          "height": 264
        },
        "id": "VPOj7CDTKuAi",
        "outputId": "e9232ec0-09a1-4878-e15f-f23dd86aa9ef"
      },
      "source": [
        "plt.plot(x,y)\n",
        "plt.grid()\n",
        "plt.show()"
      ],
      "execution_count": null,
      "outputs": [
        {
          "output_type": "display_data",
          "data": {
            "image/png": "[encoded data removed]",
            "text/plain": [
              "<Figure size 432x288 with 1 Axes>"
            ]
          },
          "metadata": {
            "tags": [],
            "needs_background": "light"
          }
        }
      ]
    },
    {
      "cell_type": "code",
      "metadata": {
        "id": "8eEPZDqlLM1a"
      },
      "source": [
        "def plot_activation_fn(activation):\n",
        "    \"\"\"활성화 함수 activation을 파라미터로 전달 받아서, 활성화 함수의 그래프를 그려주는 함수\"\"\"\n",
        "    x = np.arange(-5,5,0.0001) # 그래프를 그릴 x좌표들\n",
        "    y = activation(x) # activation 함수의 리턴값(출력값)\n",
        "    plt.plot(x,y)\n",
        "    plt.grid()\n",
        "    plt.show()\n",
        "\n"
      ],
      "execution_count": null,
      "outputs": []
    },
    {
      "cell_type": "code",
      "metadata": {
        "colab": {
          "base_uri": "https://localhost:8080/",
          "height": 264
        },
        "id": "NukEIBpiME_h",
        "outputId": "a205f9f5-cc71-460a-ab1b-fbd5cc81fab6"
      },
      "source": [
        "plot_activation_fn(activation=step)"
      ],
      "execution_count": null,
      "outputs": [
        {
          "output_type": "display_data",
          "data": {
            "image/png": "[encoded data removed]",
            "text/plain": [
              "<Figure size 432x288 with 1 Axes>"
            ]
          },
          "metadata": {
            "tags": [],
            "needs_background": "light"
          }
        }
      ]
    },
    {
      "cell_type": "markdown",
      "metadata": {
        "id": "-MWVB_2iRzs-"
      },
      "source": [
        "## Signoid 함수"
      ]
    },
    {
      "cell_type": "code",
      "metadata": {
        "id": "MsNZaXL5Rocx"
      },
      "source": [
        "def sigmoid(x):\n",
        "    y = 1 / (1+ np.exp(-x))\n",
        "    return y"
      ],
      "execution_count": null,
      "outputs": []
    },
    {
      "cell_type": "code",
      "metadata": {
        "colab": {
          "base_uri": "https://localhost:8080/",
          "height": 264
        },
        "id": "FkE8IUsASAi6",
        "outputId": "de3259ce-4f9c-4381-be7a-f4a78f8b56f9"
      },
      "source": [
        "plot_activation_fn(activation = sigmoid)"
      ],
      "execution_count": null,
      "outputs": [
        {
          "output_type": "display_data",
          "data": {
            "image/png": "[encoded data removed]",
            "text/plain": [
              "<Figure size 432x288 with 1 Axes>"
            ]
          },
          "metadata": {
            "tags": [],
            "needs_background": "light"
          }
        }
      ]
    },
    {
      "cell_type": "code",
      "metadata": {
        "colab": {
          "base_uri": "https://localhost:8080/",
          "height": 264
        },
        "id": "j7Vvv7vGTPfn",
        "outputId": "ae8cd968-9a31-4935-be02-0c86e3d87b0b"
      },
      "source": [
        "plot_activation_fn(expit)"
      ],
      "execution_count": null,
      "outputs": [
        {
          "output_type": "display_data",
          "data": {
            "image/png": "[encoded data removed]",
            "text/plain": [
              "<Figure size 432x288 with 1 Axes>"
            ]
          },
          "metadata": {
            "tags": [],
            "needs_background": "light"
          }
        }
      ]
    },
    {
      "cell_type": "markdown",
      "metadata": {
        "id": "YZi0Fyj4TbXW"
      },
      "source": [
        "## tanh(Hyperbolic Tangent)"
      ]
    },
    {
      "cell_type": "code",
      "metadata": {
        "colab": {
          "base_uri": "https://localhost:8080/",
          "height": 264
        },
        "id": "3mV-i9oRTS64",
        "outputId": "718d3877-9e31-417f-b631-0f1593e76eeb"
      },
      "source": [
        "plot_activation_fn(np.tanh)"
      ],
      "execution_count": null,
      "outputs": [
        {
          "output_type": "display_data",
          "data": {
            "image/png": "[encoded data removed]",
            "text/plain": [
              "<Figure size 432x288 with 1 Axes>"
            ]
          },
          "metadata": {
            "tags": [],
            "needs_background": "light"
          }
        }
      ]
    },
    {
      "cell_type": "markdown",
      "metadata": {
        "id": "CGBn_yoTUkqf"
      },
      "source": [
        "## ReLU (Rectified Linear Unit) 함수"
      ]
    },
    {
      "cell_type": "code",
      "metadata": {
        "colab": {
          "base_uri": "https://localhost:8080/"
        },
        "id": "0oLPNrukXRWU",
        "outputId": "a92370e0-54b0-41ac-8e6b-9b33253e60ce"
      },
      "source": [
        "x * 1"
      ],
      "execution_count": null,
      "outputs": [
        {
          "output_type": "execute_result",
          "data": {
            "text/plain": [
              "array([-5.   , -4.999, -4.998, ...,  4.997,  4.998,  4.999])"
            ]
          },
          "metadata": {
            "tags": []
          },
          "execution_count": 61
        }
      ]
    },
    {
      "cell_type": "code",
      "metadata": {
        "id": "Ng-1c8DOTltP"
      },
      "source": [
        "def relu(x):\n",
        "\n",
        "    if x < 1:\n",
        "        y = x * 0\n",
        "    else:\n",
        "        y = x * 1\n",
        "\n",
        "    return y"
      ],
      "execution_count": null,
      "outputs": []
    },
    {
      "cell_type": "code",
      "metadata": {
        "colab": {
          "base_uri": "https://localhost:8080/",
          "height": 318
        },
        "id": "-hVXJBLXVtLJ",
        "outputId": "a7b6eec3-b10a-4cd0-fb0b-36b1b593e11a"
      },
      "source": [
        "plot_activation_fn(activation=relu)"
      ],
      "execution_count": null,
      "outputs": [
        {
          "output_type": "error",
          "ename": "ValueError",
          "evalue": "ignored",
          "traceback": [
            "\u001b[0;31m---------------------------------------------------------------------------\u001b[0m",
            "\u001b[0;31mValueError\u001b[0m                                Traceback (most recent call last)",
            "\u001b[0;32m<ipython-input-63-d581f3ce0e61>\u001b[0m in \u001b[0;36m<module>\u001b[0;34m()\u001b[0m\n\u001b[0;32m----> 1\u001b[0;31m \u001b[0mplot_activation_fn\u001b[0m\u001b[0;34m(\u001b[0m\u001b[0mactivation\u001b[0m\u001b[0;34m=\u001b[0m\u001b[0mrelu\u001b[0m\u001b[0;34m)\u001b[0m\u001b[0;34m\u001b[0m\u001b[0;34m\u001b[0m\u001b[0m\n\u001b[0m",
            "\u001b[0;32m<ipython-input-55-08d9f0224eac>\u001b[0m in \u001b[0;36mplot_activation_fn\u001b[0;34m(activation)\u001b[0m\n\u001b[1;32m      2\u001b[0m     \u001b[0;34m\"\"\"활성화 함수 activation을 파라미터로 전달 받아서, 활성화 함수의 그래프를 그려주는 함수\"\"\"\u001b[0m\u001b[0;34m\u001b[0m\u001b[0;34m\u001b[0m\u001b[0m\n\u001b[1;32m      3\u001b[0m     \u001b[0mx\u001b[0m \u001b[0;34m=\u001b[0m \u001b[0mnp\u001b[0m\u001b[0;34m.\u001b[0m\u001b[0marange\u001b[0m\u001b[0;34m(\u001b[0m\u001b[0;34m-\u001b[0m\u001b[0;36m5\u001b[0m\u001b[0;34m,\u001b[0m\u001b[0;36m5\u001b[0m\u001b[0;34m,\u001b[0m\u001b[0;36m0.0001\u001b[0m\u001b[0;34m)\u001b[0m \u001b[0;31m# 그래프를 그릴 x좌표들\u001b[0m\u001b[0;34m\u001b[0m\u001b[0;34m\u001b[0m\u001b[0m\n\u001b[0;32m----> 4\u001b[0;31m     \u001b[0my\u001b[0m \u001b[0;34m=\u001b[0m \u001b[0mactivation\u001b[0m\u001b[0;34m(\u001b[0m\u001b[0mx\u001b[0m\u001b[0;34m)\u001b[0m \u001b[0;31m# activation 함수의 리턴값(출력값)\u001b[0m\u001b[0;34m\u001b[0m\u001b[0;34m\u001b[0m\u001b[0m\n\u001b[0m\u001b[1;32m      5\u001b[0m     \u001b[0mplt\u001b[0m\u001b[0;34m.\u001b[0m\u001b[0mplot\u001b[0m\u001b[0;34m(\u001b[0m\u001b[0mx\u001b[0m\u001b[0;34m,\u001b[0m\u001b[0my\u001b[0m\u001b[0;34m)\u001b[0m\u001b[0;34m\u001b[0m\u001b[0;34m\u001b[0m\u001b[0m\n\u001b[1;32m      6\u001b[0m     \u001b[0mplt\u001b[0m\u001b[0;34m.\u001b[0m\u001b[0mgrid\u001b[0m\u001b[0;34m(\u001b[0m\u001b[0;34m)\u001b[0m\u001b[0;34m\u001b[0m\u001b[0;34m\u001b[0m\u001b[0m\n",
            "\u001b[0;32m<ipython-input-62-af1c7af86347>\u001b[0m in \u001b[0;36mrelu\u001b[0;34m(x)\u001b[0m\n\u001b[1;32m      1\u001b[0m \u001b[0;32mdef\u001b[0m \u001b[0mrelu\u001b[0m\u001b[0;34m(\u001b[0m\u001b[0mx\u001b[0m\u001b[0;34m)\u001b[0m\u001b[0;34m:\u001b[0m\u001b[0;34m\u001b[0m\u001b[0;34m\u001b[0m\u001b[0m\n\u001b[1;32m      2\u001b[0m \u001b[0;34m\u001b[0m\u001b[0m\n\u001b[0;32m----> 3\u001b[0;31m     \u001b[0;32mif\u001b[0m \u001b[0mx\u001b[0m \u001b[0;34m<\u001b[0m \u001b[0;36m1\u001b[0m\u001b[0;34m:\u001b[0m\u001b[0;34m\u001b[0m\u001b[0;34m\u001b[0m\u001b[0m\n\u001b[0m\u001b[1;32m      4\u001b[0m         \u001b[0my\u001b[0m \u001b[0;34m=\u001b[0m \u001b[0mx\u001b[0m \u001b[0;34m*\u001b[0m \u001b[0;36m0\u001b[0m\u001b[0;34m\u001b[0m\u001b[0;34m\u001b[0m\u001b[0m\n\u001b[1;32m      5\u001b[0m     \u001b[0;32melse\u001b[0m\u001b[0;34m:\u001b[0m\u001b[0;34m\u001b[0m\u001b[0;34m\u001b[0m\u001b[0m\n",
            "\u001b[0;31mValueError\u001b[0m: The truth value of an array with more than one element is ambiguous. Use a.any() or a.all()"
          ]
        }
      ]
    },
    {
      "cell_type": "code",
      "metadata": {
        "id": "hWwIrMqcVwOC"
      },
      "source": [
        "def relu(x):\n",
        "    y = np.maximum(x,0)\n",
        "    return y"
      ],
      "execution_count": null,
      "outputs": []
    },
    {
      "cell_type": "code",
      "metadata": {
        "colab": {
          "base_uri": "https://localhost:8080/",
          "height": 264
        },
        "id": "sK82MygIXLgq",
        "outputId": "06c833b2-dad5-485f-dd36-b2f22d502533"
      },
      "source": [
        "plot_activation_fn(activation=relu)"
      ],
      "execution_count": null,
      "outputs": [
        {
          "output_type": "display_data",
          "data": {
            "image/png": "[encoded data removed]",
            "text/plain": [
              "<Figure size 432x288 with 1 Axes>"
            ]
          },
          "metadata": {
            "tags": [],
            "needs_background": "light"
          }
        }
      ]
    },
    {
      "cell_type": "markdown",
      "metadata": {
        "id": "Gg-v86fvsEWy"
      },
      "source": [
        "# Artificial Neuron(인공뉴런) 응용"
      ]
    },
    {
      "cell_type": "code",
      "metadata": {
        "id": "pxAVS5wFsDlL"
      },
      "source": [
        "X, y = load_iris(return_X_y=True)"
      ],
      "execution_count": null,
      "outputs": []
    },
    {
      "cell_type": "code",
      "metadata": {
        "colab": {
          "base_uri": "https://localhost:8080/"
        },
        "id": "WSD0ZlJMso7b",
        "outputId": "df3295f9-f7b5-4f04-fe03-4a8d8ccd0dd2"
      },
      "source": [
        "X.shape,y.shape"
      ],
      "execution_count": null,
      "outputs": [
        {
          "output_type": "execute_result",
          "data": {
            "text/plain": [
              "((150, 4), (150,))"
            ]
          },
          "metadata": {
            "tags": []
          },
          "execution_count": 67
        }
      ]
    },
    {
      "cell_type": "code",
      "metadata": {
        "colab": {
          "base_uri": "https://localhost:8080/"
        },
        "id": "3Fj8PdxsssCR",
        "outputId": "d20113c8-3d06-49aa-c224-4a549002304e"
      },
      "source": [
        "X[:5]"
      ],
      "execution_count": null,
      "outputs": [
        {
          "output_type": "execute_result",
          "data": {
            "text/plain": [
              "array([[5.1, 3.5, 1.4, 0.2],\n",
              "       [4.9, 3. , 1.4, 0.2],\n",
              "       [4.7, 3.2, 1.3, 0.2],\n",
              "       [4.6, 3.1, 1.5, 0.2],\n",
              "       [5. , 3.6, 1.4, 0.2]])"
            ]
          },
          "metadata": {
            "tags": []
          },
          "execution_count": 68
        }
      ]
    },
    {
      "cell_type": "code",
      "metadata": {
        "colab": {
          "base_uri": "https://localhost:8080/"
        },
        "id": "WXlpKydqtCl8",
        "outputId": "8ebfbb9b-bea8-4e66-8a49-b8419552bd28"
      },
      "source": [
        "y[:5]"
      ],
      "execution_count": null,
      "outputs": [
        {
          "output_type": "execute_result",
          "data": {
            "text/plain": [
              "array([0, 0, 0, 0, 0])"
            ]
          },
          "metadata": {
            "tags": []
          },
          "execution_count": 69
        }
      ]
    },
    {
      "cell_type": "code",
      "metadata": {
        "colab": {
          "base_uri": "https://localhost:8080/"
        },
        "id": "PHuY-08ytE64",
        "outputId": "480168c2-4cce-41ae-aaf6-2af89bea6f80"
      },
      "source": [
        "np.unique(y,return_counts=True)"
      ],
      "execution_count": null,
      "outputs": [
        {
          "output_type": "execute_result",
          "data": {
            "text/plain": [
              "(array([0, 1, 2]), array([50, 50, 50]))"
            ]
          },
          "metadata": {
            "tags": []
          },
          "execution_count": 70
        }
      ]
    },
    {
      "cell_type": "markdown",
      "metadata": {
        "id": "E2doMYdeuR_C"
      },
      "source": [
        "문제를 간단히 하기 위해서, \n",
        "* iris의 특성들 중에서 꽃잎 길이/너비만 선택하고\n",
        "* setosa (0) / non-setosa (1) 이진 분류"
      ]
    },
    {
      "cell_type": "code",
      "metadata": {
        "colab": {
          "base_uri": "https://localhost:8080/"
        },
        "id": "1ZorXrHrtKGW",
        "outputId": "6c76621d-1c54-4cfd-e874-1a1c6f130517"
      },
      "source": [
        "data = X[:, 2:4]\n",
        "data[:5]"
      ],
      "execution_count": null,
      "outputs": [
        {
          "output_type": "execute_result",
          "data": {
            "text/plain": [
              "array([[1.4, 0.2],\n",
              "       [1.4, 0.2],\n",
              "       [1.3, 0.2],\n",
              "       [1.5, 0.2],\n",
              "       [1.4, 0.2]])"
            ]
          },
          "metadata": {
            "tags": []
          },
          "execution_count": 71
        }
      ]
    },
    {
      "cell_type": "code",
      "metadata": {
        "colab": {
          "base_uri": "https://localhost:8080/"
        },
        "id": "Uqt-fz19vI2i",
        "outputId": "40f7ffa3-b775-439b-a47e-1103f624d20b"
      },
      "source": [
        "target = (y != 0).astype(np.int_)\n",
        "target"
      ],
      "execution_count": null,
      "outputs": [
        {
          "output_type": "execute_result",
          "data": {
            "text/plain": [
              "array([0, 0, 0, 0, 0, 0, 0, 0, 0, 0, 0, 0, 0, 0, 0, 0, 0, 0, 0, 0, 0, 0,\n",
              "       0, 0, 0, 0, 0, 0, 0, 0, 0, 0, 0, 0, 0, 0, 0, 0, 0, 0, 0, 0, 0, 0,\n",
              "       0, 0, 0, 0, 0, 0, 1, 1, 1, 1, 1, 1, 1, 1, 1, 1, 1, 1, 1, 1, 1, 1,\n",
              "       1, 1, 1, 1, 1, 1, 1, 1, 1, 1, 1, 1, 1, 1, 1, 1, 1, 1, 1, 1, 1, 1,\n",
              "       1, 1, 1, 1, 1, 1, 1, 1, 1, 1, 1, 1, 1, 1, 1, 1, 1, 1, 1, 1, 1, 1,\n",
              "       1, 1, 1, 1, 1, 1, 1, 1, 1, 1, 1, 1, 1, 1, 1, 1, 1, 1, 1, 1, 1, 1,\n",
              "       1, 1, 1, 1, 1, 1, 1, 1, 1, 1, 1, 1, 1, 1, 1, 1, 1, 1])"
            ]
          },
          "metadata": {
            "tags": []
          },
          "execution_count": 72
        }
      ]
    },
    {
      "cell_type": "code",
      "metadata": {
        "colab": {
          "base_uri": "https://localhost:8080/",
          "height": 278
        },
        "id": "sDLe-fWdvgs5",
        "outputId": "23682232-b536-4900-fbe9-84edcc870b68"
      },
      "source": [
        "plt.scatter(data[target == 0, 0],data[target == 0, 1], label='setosa')\n",
        "plt.scatter(data[target == 1, 0],data[target == 1, 1], label='non - setosa')\n",
        "\n",
        "plt.legend()\n",
        "plt.xlabel('petal length')\n",
        "plt.ylabel('petal width')\n",
        "plt.show()"
      ],
      "execution_count": null,
      "outputs": [
        {
          "output_type": "display_data",
          "data": {
            "image/png": "[encoded data removed]",
            "text/plain": [
              "<Figure size 432x288 with 1 Axes>"
            ]
          },
          "metadata": {
            "tags": [],
            "needs_background": "light"
          }
        }
      ]
    },
    {
      "cell_type": "code",
      "metadata": {
        "id": "uTPCuPDKwuB5"
      },
      "source": [
        "b = -2.0 # bias\n",
        "w = np.array([0.7,1.2]) # weight"
      ],
      "execution_count": null,
      "outputs": []
    },
    {
      "cell_type": "code",
      "metadata": {
        "colab": {
          "base_uri": "https://localhost:8080/"
        },
        "id": "47zS4uY0w2Dk",
        "outputId": "7a98c46e-d0e0-44a9-e0e8-c3e5cfa4aa74"
      },
      "source": [
        "z = np.dot(data,w) + b\n",
        "z"
      ],
      "execution_count": null,
      "outputs": [
        {
          "output_type": "execute_result",
          "data": {
            "text/plain": [
              "array([-0.78, -0.78, -0.85, -0.71, -0.78, -0.33, -0.66, -0.71, -0.78,\n",
              "       -0.83, -0.71, -0.64, -0.9 , -1.11, -0.92, -0.47, -0.61, -0.66,\n",
              "       -0.45, -0.59, -0.57, -0.47, -1.06, -0.21, -0.43, -0.64, -0.4 ,\n",
              "       -0.71, -0.78, -0.64, -0.64, -0.47, -0.83, -0.78, -0.71, -0.92,\n",
              "       -0.85, -0.9 , -0.85, -0.71, -0.73, -0.73, -0.85, -0.16, -0.19,\n",
              "       -0.66, -0.64, -0.78, -0.71, -0.78,  2.97,  2.95,  3.23,  2.36,\n",
              "        3.02,  2.71,  3.21,  1.51,  2.78,  2.41,  1.65,  2.74,  2.  ,\n",
              "        2.97,  2.08,  2.76,  2.95,  2.07,  2.95,  2.05,  3.52,  2.36,\n",
              "        3.23,  2.73,  2.57,  2.76,  3.04,  3.54,  2.95,  1.65,  1.98,\n",
              "        1.79,  2.17,  3.49,  2.95,  3.07,  3.09,  2.64,  2.43,  2.36,\n",
              "        2.52,  2.9 ,  2.24,  1.51,  2.5 ,  2.38,  2.5 ,  2.57,  1.42,\n",
              "        2.43,  5.2 ,  3.85,  4.65,  4.08,  4.7 ,  5.14,  3.19,  4.57,\n",
              "        4.22,  5.27,  3.97,  3.99,  4.37,  3.9 ,  4.45,  4.47,  4.01,\n",
              "        5.33,  5.59,  3.3 ,  4.75,  3.83,  5.09,  3.59,  4.51,  4.36,\n",
              "        3.52,  3.59,  4.44,  3.98,  4.55,  4.88,  4.56,  3.37,  3.6 ,\n",
              "        5.03,  4.8 ,  4.01,  3.52,  4.3 ,  4.8 ,  4.33,  3.85,  4.89,\n",
              "        4.99,  4.4 ,  3.78,  4.04,  4.54,  3.73])"
            ]
          },
          "metadata": {
            "tags": []
          },
          "execution_count": 75
        }
      ]
    },
    {
      "cell_type": "code",
      "metadata": {
        "colab": {
          "base_uri": "https://localhost:8080/"
        },
        "id": "SjQw0zQ7xulw",
        "outputId": "fd413518-c259-4aac-f28a-77f32c5b5945"
      },
      "source": [
        "prd = step(z)\n",
        "prd"
      ],
      "execution_count": null,
      "outputs": [
        {
          "output_type": "execute_result",
          "data": {
            "text/plain": [
              "array([0, 0, 0, 0, 0, 0, 0, 0, 0, 0, 0, 0, 0, 0, 0, 0, 0, 0, 0, 0, 0, 0,\n",
              "       0, 0, 0, 0, 0, 0, 0, 0, 0, 0, 0, 0, 0, 0, 0, 0, 0, 0, 0, 0, 0, 0,\n",
              "       0, 0, 0, 0, 0, 0, 1, 1, 1, 1, 1, 1, 1, 1, 1, 1, 1, 1, 1, 1, 1, 1,\n",
              "       1, 1, 1, 1, 1, 1, 1, 1, 1, 1, 1, 1, 1, 1, 1, 1, 1, 1, 1, 1, 1, 1,\n",
              "       1, 1, 1, 1, 1, 1, 1, 1, 1, 1, 1, 1, 1, 1, 1, 1, 1, 1, 1, 1, 1, 1,\n",
              "       1, 1, 1, 1, 1, 1, 1, 1, 1, 1, 1, 1, 1, 1, 1, 1, 1, 1, 1, 1, 1, 1,\n",
              "       1, 1, 1, 1, 1, 1, 1, 1, 1, 1, 1, 1, 1, 1, 1, 1, 1, 1])"
            ]
          },
          "metadata": {
            "tags": []
          },
          "execution_count": 76
        }
      ]
    },
    {
      "cell_type": "code",
      "metadata": {
        "colab": {
          "base_uri": "https://localhost:8080/"
        },
        "id": "TPCIEcRgyX2Q",
        "outputId": "b67249a3-a45d-4f68-c681-05e6c316b89e"
      },
      "source": [
        "np.mean(target == prd)"
      ],
      "execution_count": null,
      "outputs": [
        {
          "output_type": "execute_result",
          "data": {
            "text/plain": [
              "1.0"
            ]
          },
          "metadata": {
            "tags": []
          },
          "execution_count": 77
        }
      ]
    },
    {
      "cell_type": "code",
      "metadata": {
        "id": "o6fBqFd4zAoI"
      },
      "source": [
        "class SimplePerceptron:\n",
        "    def fit(self, X, y):\n",
        "        self.intercept_= np.array([-2.0])\n",
        "        self.coef_=np.array([0.7,0.2])\n",
        "\n",
        "    def forward(self,X):\n",
        "        z = np.dot(X, self.coef_) + self.intercept_\n",
        "        return z\n",
        "\n",
        "    def activation(self,x) :\n",
        "        y = x > 0\n",
        "        return y.astype(np.int_)\n",
        "\n",
        "    def predict(self,X):\n",
        "        z = self.forward(X)\n",
        "        y = self.activation(z)\n",
        "        return y\n",
        "    \n",
        "    def score(self,X,y):\n",
        "        y_pred = self.predict(X)\n",
        "        acc = np.mean(y == y_pred)\n",
        "        return acc"
      ],
      "execution_count": null,
      "outputs": []
    },
    {
      "cell_type": "code",
      "metadata": {
        "id": "65RanVw7zwy1"
      },
      "source": [
        "neuron = SimplePerceptron() # 뉴런 객체 생성"
      ],
      "execution_count": null,
      "outputs": []
    },
    {
      "cell_type": "code",
      "metadata": {
        "id": "MZBEXHh101AA"
      },
      "source": [
        "neuron.fit(data,target) # 모델훈련"
      ],
      "execution_count": null,
      "outputs": []
    },
    {
      "cell_type": "code",
      "metadata": {
        "colab": {
          "base_uri": "https://localhost:8080/"
        },
        "id": "-gPX-Em-09Ij",
        "outputId": "70b9d8ce-0597-4540-e77c-927cba2fabdd"
      },
      "source": [
        "neuron.coef_, neuron.intercept_ # 선형 방정식이 계수들을 찾을 수 있음."
      ],
      "execution_count": null,
      "outputs": [
        {
          "output_type": "execute_result",
          "data": {
            "text/plain": [
              "(array([0.7, 0.2]), array([-2.]))"
            ]
          },
          "metadata": {
            "tags": []
          },
          "execution_count": 81
        }
      ]
    },
    {
      "cell_type": "code",
      "metadata": {
        "colab": {
          "base_uri": "https://localhost:8080/"
        },
        "id": "SiMjP5EO1DdH",
        "outputId": "45abb2ea-24bc-4834-b56a-d33747c2d995"
      },
      "source": [
        "neuron.forward(data)"
      ],
      "execution_count": null,
      "outputs": [
        {
          "output_type": "execute_result",
          "data": {
            "text/plain": [
              "array([-0.98, -0.98, -1.05, -0.91, -0.98, -0.73, -0.96, -0.91, -0.98,\n",
              "       -0.93, -0.91, -0.84, -1.  , -1.21, -1.12, -0.87, -1.01, -0.96,\n",
              "       -0.75, -0.89, -0.77, -0.87, -1.26, -0.71, -0.63, -0.84, -0.8 ,\n",
              "       -0.91, -0.98, -0.84, -0.84, -0.87, -0.93, -0.98, -0.91, -1.12,\n",
              "       -1.05, -1.  , -1.05, -0.91, -1.03, -1.03, -1.05, -0.76, -0.59,\n",
              "       -0.96, -0.84, -0.98, -0.91, -0.98,  1.57,  1.45,  1.73,  1.06,\n",
              "        1.52,  1.41,  1.61,  0.51,  1.48,  1.01,  0.65,  1.24,  1.  ,\n",
              "        1.57,  0.78,  1.36,  1.45,  1.07,  1.45,  0.95,  1.72,  1.06,\n",
              "        1.73,  1.53,  1.27,  1.36,  1.64,  1.84,  1.45,  0.65,  0.88,\n",
              "        0.79,  0.97,  1.89,  1.45,  1.47,  1.59,  1.34,  1.13,  1.06,\n",
              "        1.32,  1.5 ,  1.04,  0.51,  1.2 ,  1.18,  1.2 ,  1.27,  0.32,\n",
              "        1.13,  2.7 ,  1.95,  2.55,  2.28,  2.5 ,  3.04,  1.49,  2.77,\n",
              "        2.42,  2.77,  1.97,  2.09,  2.27,  1.9 ,  2.05,  2.17,  2.21,\n",
              "        3.13,  3.29,  1.8 ,  2.45,  1.83,  3.09,  1.79,  2.41,  2.56,\n",
              "        1.72,  1.79,  2.34,  2.38,  2.65,  2.88,  2.36,  1.87,  2.2 ,\n",
              "        2.73,  2.4 ,  2.21,  1.72,  2.2 ,  2.4 ,  2.03,  1.95,  2.59,\n",
              "        2.49,  2.1 ,  1.88,  2.04,  2.24,  1.93])"
            ]
          },
          "metadata": {
            "tags": []
          },
          "execution_count": 82
        }
      ]
    },
    {
      "cell_type": "code",
      "metadata": {
        "colab": {
          "base_uri": "https://localhost:8080/"
        },
        "id": "O0BVhElo1EpS",
        "outputId": "40c91417-2801-4358-9a87-404824b68d70"
      },
      "source": [
        "neuron.predict(data)"
      ],
      "execution_count": null,
      "outputs": [
        {
          "output_type": "execute_result",
          "data": {
            "text/plain": [
              "array([0, 0, 0, 0, 0, 0, 0, 0, 0, 0, 0, 0, 0, 0, 0, 0, 0, 0, 0, 0, 0, 0,\n",
              "       0, 0, 0, 0, 0, 0, 0, 0, 0, 0, 0, 0, 0, 0, 0, 0, 0, 0, 0, 0, 0, 0,\n",
              "       0, 0, 0, 0, 0, 0, 1, 1, 1, 1, 1, 1, 1, 1, 1, 1, 1, 1, 1, 1, 1, 1,\n",
              "       1, 1, 1, 1, 1, 1, 1, 1, 1, 1, 1, 1, 1, 1, 1, 1, 1, 1, 1, 1, 1, 1,\n",
              "       1, 1, 1, 1, 1, 1, 1, 1, 1, 1, 1, 1, 1, 1, 1, 1, 1, 1, 1, 1, 1, 1,\n",
              "       1, 1, 1, 1, 1, 1, 1, 1, 1, 1, 1, 1, 1, 1, 1, 1, 1, 1, 1, 1, 1, 1,\n",
              "       1, 1, 1, 1, 1, 1, 1, 1, 1, 1, 1, 1, 1, 1, 1, 1, 1, 1])"
            ]
          },
          "metadata": {
            "tags": []
          },
          "execution_count": 83
        }
      ]
    },
    {
      "cell_type": "code",
      "metadata": {
        "colab": {
          "base_uri": "https://localhost:8080/"
        },
        "id": "FjxvJiez7eSF",
        "outputId": "6cfa7f66-3cfd-4a99-9af8-6a18b1cf082b"
      },
      "source": [
        "neuron.score(data,target)"
      ],
      "execution_count": null,
      "outputs": [
        {
          "output_type": "execute_result",
          "data": {
            "text/plain": [
              "1.0"
            ]
          },
          "metadata": {
            "tags": []
          },
          "execution_count": 84
        }
      ]
    },
    {
      "cell_type": "markdown",
      "metadata": {
        "id": "M2gyVHrp9BOs"
      },
      "source": [
        "## sklearn.linear_model.Perceptron"
      ]
    },
    {
      "cell_type": "code",
      "metadata": {
        "id": "fPYgI6zb89lr"
      },
      "source": [
        "per = Perceptron(random_state=42) # 모델생성"
      ],
      "execution_count": null,
      "outputs": []
    },
    {
      "cell_type": "code",
      "metadata": {
        "colab": {
          "base_uri": "https://localhost:8080/"
        },
        "id": "ce1LbHni9NDj",
        "outputId": "ebaae136-1526-4f61-cb86-84cdea753cc6"
      },
      "source": [
        "per.fit(data,target) # 모델훈련"
      ],
      "execution_count": null,
      "outputs": [
        {
          "output_type": "execute_result",
          "data": {
            "text/plain": [
              "Perceptron(alpha=0.0001, class_weight=None, early_stopping=False, eta0=1.0,\n",
              "           fit_intercept=True, max_iter=1000, n_iter_no_change=5, n_jobs=None,\n",
              "           penalty=None, random_state=42, shuffle=True, tol=0.001,\n",
              "           validation_fraction=0.1, verbose=0, warm_start=False)"
            ]
          },
          "metadata": {
            "tags": []
          },
          "execution_count": 86
        }
      ]
    },
    {
      "cell_type": "code",
      "metadata": {
        "colab": {
          "base_uri": "https://localhost:8080/"
        },
        "id": "7hFVkkrD9Viv",
        "outputId": "4f2cf8b3-3f04-490b-ce9e-46e3f7b59275"
      },
      "source": [
        "per.predict(X=data)"
      ],
      "execution_count": null,
      "outputs": [
        {
          "output_type": "execute_result",
          "data": {
            "text/plain": [
              "array([0, 0, 0, 0, 0, 0, 0, 0, 0, 0, 0, 0, 0, 0, 0, 0, 0, 0, 0, 0, 0, 0,\n",
              "       0, 0, 0, 0, 0, 0, 0, 0, 0, 0, 0, 0, 0, 0, 0, 0, 0, 0, 0, 0, 0, 0,\n",
              "       0, 0, 0, 0, 0, 0, 1, 1, 1, 1, 1, 1, 1, 1, 1, 1, 1, 1, 1, 1, 1, 1,\n",
              "       1, 1, 1, 1, 1, 1, 1, 1, 1, 1, 1, 1, 1, 1, 1, 1, 1, 1, 1, 1, 1, 1,\n",
              "       1, 1, 1, 1, 1, 1, 1, 1, 1, 1, 1, 1, 1, 1, 1, 1, 1, 1, 1, 1, 1, 1,\n",
              "       1, 1, 1, 1, 1, 1, 1, 1, 1, 1, 1, 1, 1, 1, 1, 1, 1, 1, 1, 1, 1, 1,\n",
              "       1, 1, 1, 1, 1, 1, 1, 1, 1, 1, 1, 1, 1, 1, 1, 1, 1, 1])"
            ]
          },
          "metadata": {
            "tags": []
          },
          "execution_count": 87
        }
      ]
    },
    {
      "cell_type": "markdown",
      "metadata": {
        "id": "QoykwlHU---C"
      },
      "source": [
        "## 활성화 함수가 sigmoid인 Neuron"
      ]
    },
    {
      "cell_type": "code",
      "metadata": {
        "id": "QO8lY7uJ_HIa"
      },
      "source": [
        "class SimpleNeuron:\n",
        "    \n",
        "    def fit(self,X,y):\n",
        "        self.intercept_ = np.array([-35.6])\n",
        "        self.coef_=np.array([11.8,17.0])\n",
        "\n",
        "    def forward(self,X):\n",
        "        z = np.dot(X, self.coef_) + self.intercept_\n",
        "        return z\n",
        "    \n",
        "    def activation(self,x) :\n",
        "        # y = 1 / (1+ np.exp(-x))\n",
        "        y = expit(x)\n",
        "        return y\n",
        "\n",
        "    def predict_proba(self,X):\n",
        "        z = self.forward(X)\n",
        "        y = self.activation(z)\n",
        "        probas = np.c_[1- y, y]\n",
        "        return probas\n",
        "    \n",
        "    def predict(self,X):\n",
        "        # y = self.predict_proba(X) > 0.5\n",
        "        # return y.astype(np.int_)\n",
        "        probas = self.predict_proba(X)\n",
        "        prd = np.argmax(probas, axis = 1)\n",
        "        return prd\n",
        "\n",
        "    def score(self, X, y):\n",
        "        y_pred = self.predict(X)\n",
        "        acc = np.mean(y == y_pred)\n",
        "        return acc"
      ],
      "execution_count": null,
      "outputs": []
    },
    {
      "cell_type": "code",
      "metadata": {
        "id": "l6IyflZxBtlA"
      },
      "source": [
        "neu = SimpleNeuron()"
      ],
      "execution_count": null,
      "outputs": []
    },
    {
      "cell_type": "code",
      "metadata": {
        "id": "jXWmH6e0BzJJ"
      },
      "source": [
        "neu.fit(data,target)"
      ],
      "execution_count": null,
      "outputs": []
    },
    {
      "cell_type": "code",
      "metadata": {
        "colab": {
          "base_uri": "https://localhost:8080/"
        },
        "id": "X1nQmwskB2mV",
        "outputId": "d29747f7-c9c2-428d-8f6a-48ff7acbb095"
      },
      "source": [
        "neu.predict_proba(data)[:5],neu.predict_proba(data)[-5:]"
      ],
      "execution_count": null,
      "outputs": [
        {
          "output_type": "execute_result",
          "data": {
            "text/plain": [
              "(array([[9.99999845e-01, 1.54975290e-07],\n",
              "        [9.99999845e-01, 1.54975290e-07],\n",
              "        [9.99999952e-01, 4.76206166e-08],\n",
              "        [9.99999496e-01, 5.04347408e-07],\n",
              "        [9.99999845e-01, 1.54975290e-07]]), array([[0., 1.],\n",
              "        [0., 1.],\n",
              "        [0., 1.],\n",
              "        [0., 1.],\n",
              "        [0., 1.]]))"
            ]
          },
          "metadata": {
            "tags": []
          },
          "execution_count": 91
        }
      ]
    },
    {
      "cell_type": "code",
      "metadata": {
        "colab": {
          "base_uri": "https://localhost:8080/"
        },
        "id": "QVYDxMWzCCBx",
        "outputId": "c1876afb-bbec-4e2b-dd69-9016779aa4d5"
      },
      "source": [
        "neu.predict(data)"
      ],
      "execution_count": null,
      "outputs": [
        {
          "output_type": "execute_result",
          "data": {
            "text/plain": [
              "array([0, 0, 0, 0, 0, 0, 0, 0, 0, 0, 0, 0, 0, 0, 0, 0, 0, 0, 0, 0, 0, 0,\n",
              "       0, 0, 0, 0, 0, 0, 0, 0, 0, 0, 0, 0, 0, 0, 0, 0, 0, 0, 0, 0, 0, 0,\n",
              "       0, 0, 0, 0, 0, 0, 1, 1, 1, 1, 1, 1, 1, 1, 1, 1, 1, 1, 1, 1, 1, 1,\n",
              "       1, 1, 1, 1, 1, 1, 1, 1, 1, 1, 1, 1, 1, 1, 1, 1, 1, 1, 1, 1, 1, 1,\n",
              "       1, 1, 1, 1, 1, 1, 1, 1, 1, 1, 1, 1, 1, 1, 1, 1, 1, 1, 1, 1, 1, 1,\n",
              "       1, 1, 1, 1, 1, 1, 1, 1, 1, 1, 1, 1, 1, 1, 1, 1, 1, 1, 1, 1, 1, 1,\n",
              "       1, 1, 1, 1, 1, 1, 1, 1, 1, 1, 1, 1, 1, 1, 1, 1, 1, 1])"
            ]
          },
          "metadata": {
            "tags": []
          },
          "execution_count": 92
        }
      ]
    },
    {
      "cell_type": "code",
      "metadata": {
        "colab": {
          "base_uri": "https://localhost:8080/"
        },
        "id": "HBF2CzCSCfzB",
        "outputId": "8270a180-8a0a-42b0-80ac-489216370d3d"
      },
      "source": [
        "neu.score(data,target)"
      ],
      "execution_count": null,
      "outputs": [
        {
          "output_type": "execute_result",
          "data": {
            "text/plain": [
              "1.0"
            ]
          },
          "metadata": {
            "tags": []
          },
          "execution_count": 93
        }
      ]
    },
    {
      "cell_type": "markdown",
      "metadata": {
        "id": "mz_31axqNYY7"
      },
      "source": [
        "## sklearn.linear_module.SGDClassifier"
      ]
    },
    {
      "cell_type": "code",
      "metadata": {
        "id": "0qFp-qmxNXp4"
      },
      "source": [
        "sgd_clf = SGDClassifier(loss='log',n_jobs = -1, random_state=42)"
      ],
      "execution_count": null,
      "outputs": []
    },
    {
      "cell_type": "code",
      "metadata": {
        "colab": {
          "base_uri": "https://localhost:8080/"
        },
        "id": "2Yl8mQgaI_1i",
        "outputId": "29af6dad-cc4e-4946-9ea4-6429a29a39f1"
      },
      "source": [
        "sgd_clf.fit(data, target)\n",
        "sgd_clf.intercept_,sgd_clf.coef_"
      ],
      "execution_count": null,
      "outputs": [
        {
          "output_type": "execute_result",
          "data": {
            "text/plain": [
              "(array([-33.65502003]), array([[9.29310825, 9.5046378 ]]))"
            ]
          },
          "metadata": {
            "tags": []
          },
          "execution_count": 95
        }
      ]
    },
    {
      "cell_type": "code",
      "metadata": {
        "colab": {
          "base_uri": "https://localhost:8080/"
        },
        "id": "ks34l3znOIGn",
        "outputId": "e92033b6-a764-40f0-e721-bcbe154e60e5"
      },
      "source": [
        "probas = sgd_clf.predict_proba(data)\n",
        "probas [:5]"
      ],
      "execution_count": null,
      "outputs": [
        {
          "output_type": "execute_result",
          "data": {
            "text/plain": [
              "array([[9.99999993e-01, 7.23930287e-09],\n",
              "       [9.99999993e-01, 7.23930287e-09],\n",
              "       [9.99999997e-01, 2.85826298e-09],\n",
              "       [9.99999982e-01, 1.83354387e-08],\n",
              "       [9.99999993e-01, 7.23930287e-09]])"
            ]
          },
          "metadata": {
            "tags": []
          },
          "execution_count": 96
        }
      ]
    },
    {
      "cell_type": "code",
      "metadata": {
        "id": "EwiJszKxWnul"
      },
      "source": [
        "with open('/content/drive/MyDrive/Colab Notebooks/Lab_ML/iris2_model_weights.pkl',mode='rb') as f:\n",
        "    w = pickle.load(f)"
      ],
      "execution_count": null,
      "outputs": []
    },
    {
      "cell_type": "code",
      "metadata": {
        "colab": {
          "base_uri": "https://localhost:8080/"
        },
        "id": "MEvDxJnGYju_",
        "outputId": "707f2eac-8b6d-4e7e-fd91-ba3c83febf8f"
      },
      "source": [
        "w.keys()"
      ],
      "execution_count": null,
      "outputs": [
        {
          "output_type": "execute_result",
          "data": {
            "text/plain": [
              "dict_keys(['W1', 'b1', 'W2', 'b2'])"
            ]
          },
          "metadata": {
            "tags": []
          },
          "execution_count": 99
        }
      ]
    },
    {
      "cell_type": "code",
      "metadata": {
        "colab": {
          "base_uri": "https://localhost:8080/"
        },
        "id": "v49YSoLGYoPc",
        "outputId": "27d52145-a312-4b72-b0bb-7fe6524645b7"
      },
      "source": [
        "# 입력층(input layer)에서 은닉층(hidden layer)로 들어갈 때 필요한 가중치\n",
        "w['W1'].shape # n_neurons,n_output"
      ],
      "execution_count": null,
      "outputs": [
        {
          "output_type": "execute_result",
          "data": {
            "text/plain": [
              "(2, 10)"
            ]
          },
          "metadata": {
            "tags": []
          },
          "execution_count": 100
        }
      ]
    },
    {
      "cell_type": "code",
      "metadata": {
        "colab": {
          "base_uri": "https://localhost:8080/"
        },
        "id": "5ymMsCoMY5R0",
        "outputId": "1ead8dc8-2b51-47da-ca18-59ae83e3e83d"
      },
      "source": [
        "# 입력층(input layer)에서 은닉층(hidden layer)로 들어갈 때 필요한 편향\n",
        "w['b1'].shape # n_neurons"
      ],
      "execution_count": null,
      "outputs": [
        {
          "output_type": "execute_result",
          "data": {
            "text/plain": [
              "(10,)"
            ]
          },
          "metadata": {
            "tags": []
          },
          "execution_count": 101
        }
      ]
    },
    {
      "cell_type": "code",
      "metadata": {
        "colab": {
          "base_uri": "https://localhost:8080/"
        },
        "id": "uA2EMp6YZKvS",
        "outputId": "dc4442c3-1ba4-4237-b087-36bd690e0b2f"
      },
      "source": [
        "# 은닉층에서 출력층(output layer)로 들어갈 때 필요한 가중치\n",
        "w['W2'].shape"
      ],
      "execution_count": null,
      "outputs": [
        {
          "output_type": "execute_result",
          "data": {
            "text/plain": [
              "(10, 1)"
            ]
          },
          "metadata": {
            "tags": []
          },
          "execution_count": 102
        }
      ]
    },
    {
      "cell_type": "code",
      "metadata": {
        "colab": {
          "base_uri": "https://localhost:8080/"
        },
        "id": "Sx9YOhxuZVPW",
        "outputId": "e073d9ae-5423-4318-dd73-2f07e7d5937a"
      },
      "source": [
        "# 은닉층에서 출력층(output layer)로 들어갈 때 필요한 편향\n",
        "w['b2'].shape"
      ],
      "execution_count": null,
      "outputs": [
        {
          "output_type": "execute_result",
          "data": {
            "text/plain": [
              "(1,)"
            ]
          },
          "metadata": {
            "tags": []
          },
          "execution_count": 103
        }
      ]
    },
    {
      "cell_type": "code",
      "metadata": {
        "colab": {
          "base_uri": "https://localhost:8080/"
        },
        "id": "GLJ6ktlEZdyb",
        "outputId": "88fe607d-8063-4100-ea3d-d28cf0f89306"
      },
      "source": [
        "# iris data가 신경망의 모든 층을 통과한 후, 계산된 결과 출력\n",
        "h = np.dot(data,w['W1']) + w['b1']\n",
        "h_1 = expit(h)\n",
        "o = np.dot(h_1,w['W2']) + w['b2']\n",
        "o_1 = expit(o)\n",
        "o_1[:5]"
      ],
      "execution_count": null,
      "outputs": [
        {
          "output_type": "execute_result",
          "data": {
            "text/plain": [
              "array([[0.4881909 ],\n",
              "       [0.4881909 ],\n",
              "       [0.48864567],\n",
              "       [0.48775497],\n",
              "       [0.4881909 ]])"
            ]
          },
          "metadata": {
            "tags": []
          },
          "execution_count": 112
        }
      ]
    },
    {
      "cell_type": "code",
      "metadata": {
        "colab": {
          "base_uri": "https://localhost:8080/"
        },
        "id": "hC7DFA_Kcrkc",
        "outputId": "ef371c9e-9641-4ca5-eb71-9abee7d4c8d1"
      },
      "source": [
        "probas = np.c_[1- o_1, o_1]\n",
        "probas[:5]"
      ],
      "execution_count": null,
      "outputs": [
        {
          "output_type": "execute_result",
          "data": {
            "text/plain": [
              "array([[0.5118091 , 0.4881909 ],\n",
              "       [0.5118091 , 0.4881909 ],\n",
              "       [0.51135433, 0.48864567],\n",
              "       [0.51224503, 0.48775497],\n",
              "       [0.5118091 , 0.4881909 ]])"
            ]
          },
          "metadata": {
            "tags": []
          },
          "execution_count": 118
        }
      ]
    },
    {
      "cell_type": "code",
      "metadata": {
        "colab": {
          "base_uri": "https://localhost:8080/"
        },
        "id": "y1nPRdJadDBU",
        "outputId": "e7bade43-b02e-4660-c26e-78ad701f510d"
      },
      "source": [
        "prd = np.argmax(probas, axis = 1)\n",
        "prd"
      ],
      "execution_count": null,
      "outputs": [
        {
          "output_type": "execute_result",
          "data": {
            "text/plain": [
              "array([0, 0, 0, 0, 0, 0, 0, 0, 0, 0, 0, 0, 0, 0, 0, 0, 0, 0, 0, 0, 0, 0,\n",
              "       0, 0, 0, 0, 0, 0, 0, 0, 0, 0, 0, 0, 0, 0, 0, 0, 0, 0, 0, 0, 0, 0,\n",
              "       0, 0, 0, 0, 0, 0, 1, 1, 1, 1, 1, 1, 1, 0, 1, 1, 0, 1, 0, 1, 1, 1,\n",
              "       1, 0, 1, 0, 1, 1, 1, 1, 1, 1, 1, 1, 1, 0, 0, 0, 1, 1, 1, 1, 1, 1,\n",
              "       1, 1, 1, 1, 1, 0, 1, 1, 1, 1, 0, 1, 1, 1, 1, 1, 1, 1, 1, 1, 1, 1,\n",
              "       1, 1, 1, 1, 1, 1, 1, 1, 1, 1, 1, 1, 1, 1, 1, 1, 1, 1, 1, 1, 1, 1,\n",
              "       1, 1, 1, 1, 1, 1, 1, 1, 1, 1, 1, 1, 1, 1, 1, 1, 1, 1])"
            ]
          },
          "metadata": {
            "tags": []
          },
          "execution_count": 120
        }
      ]
    }
  ]
}