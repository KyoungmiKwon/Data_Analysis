{
 "metadata": {
  "language_info": {
   "codemirror_mode": {
    "name": "ipython",
    "version": 3
   },
   "file_extension": ".py",
   "mimetype": "text/x-python",
   "name": "python",
   "nbconvert_exporter": "python",
   "pygments_lexer": "ipython3",
   "version": "3.8.8"
  },
  "orig_nbformat": 2,
  "kernelspec": {
   "name": "python3",
   "display_name": "Python 3.8.8 64-bit",
   "metadata": {
    "interpreter": {
     "hash": "dddb17ea93c18165eccab44a79c5ce0b5c677e2de303579c5906a1a0ad969dde"
    }
   }
  }
 },
 "nbformat": 4,
 "nbformat_minor": 2,
 "cells": [
  {
   "cell_type": "code",
   "execution_count": 1,
   "metadata": {},
   "outputs": [],
   "source": [
    "import requests\n",
    "from bs4 import BeautifulSoup"
   ]
  },
  {
   "cell_type": "code",
   "execution_count": 2,
   "metadata": {},
   "outputs": [],
   "source": [
    "url = 'https://news.daum.net/ranking/popular'"
   ]
  },
  {
   "cell_type": "code",
   "execution_count": 3,
   "metadata": {},
   "outputs": [
    {
     "output_type": "stream",
     "name": "stdout",
     "text": [
      "<Response [200]>\n"
     ]
    }
   ],
   "source": [
    "response = requests.get(url)\n",
    "print(response) #> <Response [200]> : 응답성공"
   ]
  },
  {
   "cell_type": "code",
   "execution_count": 4,
   "metadata": {},
   "outputs": [],
   "source": [
    "html = response.text.strip()\n",
    "#> response 객체의 text 속성의 값 -- HTML 코드"
   ]
  },
  {
   "cell_type": "code",
   "execution_count": 8,
   "metadata": {},
   "outputs": [
    {
     "output_type": "stream",
     "name": "stdout",
     "text": [
      "<!DOCTYPE html>\n\n\n\n<html lang=\"ko\" class=\"os_unknown none unknown version_0 \">\n<head>\n<meta charset=\"utf-8\">\n<meta name=\"referrer\" content=\"always\" />\n\n<meta property=\"og:author\" content=\"Daum 뉴스\" />\n<meta property=\"og:site_name\" content=\"다음뉴스\" />\n<meta property=\"og:title\" content=\"뉴스 랭킹\"/>\n<meta pr\n"
     ]
    }
   ],
   "source": [
    "print(html[:300])"
   ]
  },
  {
   "cell_type": "code",
   "execution_count": 9,
   "metadata": {},
   "outputs": [],
   "source": [
    "# HTML을 분석하기 위한 BeautifulSoup 객체를 생성\n",
    "soup = BeautifulSoup(markup=html, features='html5lib')"
   ]
  },
  {
   "cell_type": "code",
   "execution_count": 10,
   "metadata": {
    "tags": [
     "outputPrepend"
    ]
   },
   "outputs": [
    {
     "output_type": "stream",
     "name": "stdout",
     "text": [
      "    <em class=\"num_news num12\">12위</em>\n                                <strong class=\"tit_g\">\n                                    <a class=\"link_txt\" data-tiara-custom=\"contentUniqueKey=hamny-20210413160004943\" data-tiara-id=\"20210413160004943\" data-tiara-layer=\"RIGHT popular_news sports_list\" data-tiara-ordnum=\"12\" data-tiara-type=\"harmony\" href=\"https://v.daum.net/v/20210413160004943\">\n                                        \"손흥민 오버액션 확실, 축구는 접촉의 스포츠\" 영국 유명 심판의 지적\n                                    </a>\n                                </strong>\n                            </li>\n                            <li>\n                                <em class=\"num_news num13\">13위</em>\n                                <strong class=\"tit_g\">\n                                    <a class=\"link_txt\" data-tiara-custom=\"contentUniqueKey=hamny-20210413114227026\" data-tiara-id=\"20210413114227026\" data-tiara-layer=\"RIGHT popular_news sports_list\" data-tiara-ordnum=\"13\" data-tiara-type=\"harmony\" href=\"https://v.daum.net/v/20210413114227026\">\n                                        현대건설 양효진, 아름다운 신부로.. 18일 결혼식\n                                    </a>\n                                </strong>\n                            </li>\n                            <li>\n                                <em class=\"num_news num14\">14위</em>\n                                <strong class=\"tit_g\">\n                                    <a class=\"link_txt\" data-tiara-custom=\"contentUniqueKey=hamny-20210413163136210\" data-tiara-id=\"20210413163136210\" data-tiara-layer=\"RIGHT popular_news sports_list\" data-tiara-ordnum=\"14\" data-tiara-type=\"harmony\" href=\"https://v.daum.net/v/20210413163136210\">\n                                        브룩스-멩덴 '4일 간격 등판' 백지화..KBO식 용규 놀이에 급수정 \n                                    </a>\n                                </strong>\n                            </li>\n                            <li>\n                                <em class=\"num_news num15\">15위</em>\n                                <strong class=\"tit_g\">\n                                    <a class=\"link_txt\" data-tiara-custom=\"contentUniqueKey=hamny-20210413121156067\" data-tiara-id=\"20210413121156067\" data-tiara-layer=\"RIGHT popular_news sports_list\" data-tiara-ordnum=\"15\" data-tiara-type=\"harmony\" href=\"https://v.daum.net/v/20210413121156067\">\n                                        \"이소영-강소휘, 협상 아닌 읍소라도..\" FA 마감까지 이틀, 간절한 GS칼텍스\n                                    </a>\n                                </strong>\n                            </li>\n                            <li>\n                                <em class=\"num_news num16\">16위</em>\n                                <strong class=\"tit_g\">\n                                    <a class=\"link_txt\" data-tiara-custom=\"contentUniqueKey=hamny-20210413105002443\" data-tiara-id=\"20210413105002443\" data-tiara-layer=\"RIGHT popular_news sports_list\" data-tiara-ordnum=\"16\" data-tiara-type=\"harmony\" href=\"https://v.daum.net/v/20210413105002443\">\n                                        매과이어 폭탄발언 \"손흥민 파울? 축구 아니다, 난 항상 공격수 얼굴 건드려\"\n                                    </a>\n                                </strong>\n                            </li>\n                            <li>\n                                <em class=\"num_news num17\">17위</em>\n                                <strong class=\"tit_g\">\n                                    <a class=\"link_txt\" data-tiara-custom=\"contentUniqueKey=hamny-20210413152610537\" data-tiara-id=\"20210413152610537\" data-tiara-layer=\"RIGHT popular_news sports_list\" data-tiara-ordnum=\"17\" data-tiara-type=\"harmony\" href=\"https://v.daum.net/v/20210413152610537\">\n                                        우천 변수 사라지고 성사된 왼손 특급 신인 선발 맞대결, 관전 포인트는?\n                                    </a>\n                                </strong>\n                            </li>\n                            <li>\n                                <em class=\"num_news num18\">18위</em>\n                                <strong class=\"tit_g\">\n                                    <a class=\"link_txt\" data-tiara-custom=\"contentUniqueKey=hamny-20210413110819415\" data-tiara-id=\"20210413110819415\" data-tiara-layer=\"RIGHT popular_news sports_list\" data-tiara-ordnum=\"18\" data-tiara-type=\"harmony\" href=\"https://v.daum.net/v/20210413110819415\">\n                                        중국, 한국전에 1만명 무료입장..'방역 구멍'과 '홈 텃세' 우려\n                                    </a>\n                                </strong>\n                            </li>\n                            <li>\n                                <em class=\"num_news num19\">19위</em>\n                                <strong class=\"tit_g\">\n                                    <a class=\"link_txt\" data-tiara-custom=\"contentUniqueKey=hamny-20210413111205609\" data-tiara-id=\"20210413111205609\" data-tiara-layer=\"RIGHT popular_news sports_list\" data-tiara-ordnum=\"19\" data-tiara-type=\"harmony\" href=\"https://v.daum.net/v/20210413111205609\">\n                                        TOR, 지구 최하위 추락..NYY 콜, 6이닝 8K+히가시오카 2홈런 \n                                    </a>\n                                </strong>\n                            </li>\n                            <li>\n                                <em class=\"num_news num20\">20위</em>\n                                <strong class=\"tit_g\">\n                                    <a class=\"link_txt\" data-tiara-custom=\"contentUniqueKey=hamny-20210413111859973\" data-tiara-id=\"20210413111859973\" data-tiara-layer=\"RIGHT popular_news sports_list\" data-tiara-ordnum=\"20\" data-tiara-type=\"harmony\" href=\"https://v.daum.net/v/20210413111859973\">\n                                        유승안 회장의 롯데 작심발언 \"팀 밸런스 안 맞는 건 단장 책임\" \n                                    </a>\n                                </strong>\n                            </li>\n                        </ol>\n                        <ol class=\"list_ranking\" data-page=\"3\" style=\"display:none\">\n                            <li>\n                                <em class=\"num_news num21\">21위</em>\n                                <strong class=\"tit_g\">\n                                    <a class=\"link_txt\" data-tiara-custom=\"contentUniqueKey=hamny-20210413154303242\" data-tiara-id=\"20210413154303242\" data-tiara-layer=\"RIGHT popular_news sports_list\" data-tiara-ordnum=\"21\" data-tiara-type=\"harmony\" href=\"https://v.daum.net/v/20210413154303242\">\n                                        KGC인삼공사, 상생계약으로 이소영 품다..3년 총액 19억5000만원 \n                                    </a>\n                                </strong>\n                            </li>\n                            <li>\n                                <em class=\"num_news num22\">22위</em>\n                                <strong class=\"tit_g\">\n                                    <a class=\"link_txt\" data-tiara-custom=\"contentUniqueKey=hamny-20210413161825755\" data-tiara-id=\"20210413161825755\" data-tiara-layer=\"RIGHT popular_news sports_list\" data-tiara-ordnum=\"22\" data-tiara-type=\"harmony\" href=\"https://v.daum.net/v/20210413161825755\">\n                                        '4연승' 삼성, 13일 한화전 타순 변화..4번 김동엽 \n                                    </a>\n                                </strong>\n                            </li>\n                            <li>\n                                <em class=\"num_news num23\">23위</em>\n                                <strong class=\"tit_g\">\n                                    <a class=\"link_txt\" data-tiara-custom=\"contentUniqueKey=hamny-20210413124932808\" data-tiara-id=\"20210413124932808\" data-tiara-layer=\"RIGHT popular_news sports_list\" data-tiara-ordnum=\"23\" data-tiara-type=\"harmony\" href=\"https://v.daum.net/v/20210413124932808\">\n                                        향수병 겪던 LG 라모스 '더 이상 외롭지 않다'..멕시코 대사관서 깜짝 결혼\n                                    </a>\n                                </strong>\n                            </li>\n                            <li>\n                                <em class=\"num_news num24\">24위</em>\n                                <strong class=\"tit_g\">\n                                    <a class=\"link_txt\" data-tiara-custom=\"contentUniqueKey=hamny-20210413132100383\" data-tiara-id=\"20210413132100383\" data-tiara-layer=\"RIGHT popular_news sports_list\" data-tiara-ordnum=\"24\" data-tiara-type=\"harmony\" href=\"https://v.daum.net/v/20210413132100383\">\n                                        日첫 홈런·도루왕→트리플 스리→410억 먹튀?→28세 야구 천재의 몰락\n                                    </a>\n                                </strong>\n                            </li>\n                            <li>\n                                <em class=\"num_news num25\">25위</em>\n                                <strong class=\"tit_g\">\n                                    <a class=\"link_txt\" data-tiara-custom=\"contentUniqueKey=hamny-20210413130006000\" data-tiara-id=\"20210413130006000\" data-tiara-layer=\"RIGHT popular_news sports_list\" data-tiara-ordnum=\"25\" data-tiara-type=\"harmony\" href=\"https://v.daum.net/v/20210413130006000\">\n                                        \"무리뉴, 하프타임 때 무슨 말 하는 거야? 선수들도 한심\"\n                                    </a>\n                                </strong>\n                            </li>\n                            <li>\n                                <em class=\"num_news num26\">26위</em>\n                                <strong class=\"tit_g\">\n                                    <a class=\"link_txt\" data-tiara-custom=\"contentUniqueKey=hamny-20210413153712018\" data-tiara-id=\"20210413153712018\" data-tiara-layer=\"RIGHT popular_news sports_list\" data-tiara-ordnum=\"26\" data-tiara-type=\"harmony\" href=\"https://v.daum.net/v/20210413153712018\">\n                                        '앗싸!' 토트넘, 563억 쓴 역대 2위 수비수 팔 기회 잡았다\n                                    </a>\n                                </strong>\n                            </li>\n                            <li>\n                                <em class=\"num_news num27\">27위</em>\n                                <strong class=\"tit_g\">\n                                    <a class=\"link_txt\" data-tiara-custom=\"contentUniqueKey=hamny-20210413151802163\" data-tiara-id=\"20210413151802163\" data-tiara-layer=\"RIGHT popular_news sports_list\" data-tiara-ordnum=\"27\" data-tiara-type=\"harmony\" href=\"https://v.daum.net/v/20210413151802163\">\n                                        믿고 보는 류현진, 이번에는 토론토 타선 도움 받을까\n                                    </a>\n                                </strong>\n                            </li>\n                            <li>\n                                <em class=\"num_news num28\">28위</em>\n                                <strong class=\"tit_g\">\n                                    <a class=\"link_txt\" data-tiara-custom=\"contentUniqueKey=hamny-20210413130708149\" data-tiara-id=\"20210413130708149\" data-tiara-layer=\"RIGHT popular_news sports_list\" data-tiara-ordnum=\"28\" data-tiara-type=\"harmony\" href=\"https://v.daum.net/v/20210413130708149\">\n                                        레알, 홀란드보다 저렴한 이 특급 공격수를 주시하기 시작했다\n                                    </a>\n                                </strong>\n                            </li>\n                            <li>\n                                <em class=\"num_news num29\">29위</em>\n                                <strong class=\"tit_g\">\n                                    <a class=\"link_txt\" data-tiara-custom=\"contentUniqueKey=hamny-20210413074957409\" data-tiara-id=\"20210413074957409\" data-tiara-layer=\"RIGHT popular_news sports_list\" data-tiara-ordnum=\"29\" data-tiara-type=\"harmony\" href=\"https://v.daum.net/v/20210413074957409\">\n                                        '일이 커졌다' CNN도 손흥민 인종차별 사건 주목, SNS 기업들 \"안전 조치 취하겠다\" 입장 밝혔다\n                                    </a>\n                                </strong>\n                            </li>\n                            <li>\n                                <em class=\"num_news num30\">30위</em>\n                                <strong class=\"tit_g\">\n                                    <a class=\"link_txt\" data-tiara-custom=\"contentUniqueKey=hamny-20210413165002899\" data-tiara-id=\"20210413165002899\" data-tiara-layer=\"RIGHT popular_news sports_list\" data-tiara-ordnum=\"30\" data-tiara-type=\"harmony\" href=\"https://v.daum.net/v/20210413165002899\">\n                                        BBC 출신 해설가 반박 \"손흥민 명백한 파울, 행동 부끄러울 것\"\n                                    </a>\n                                </strong>\n                            </li>\n                        </ol>\n                </div>\n            </li>\n    </ul>\n\n    <div class=\"util_aside\" data-tiara-layer=\"RIGHT popular_news\">\n        <button class=\"btn_slide btn_prev\" data-direction=\"prev\" data-tiara-layer=\"btn_prev\" style=\"outline: 0px;\"><span class=\"ico_news\">이전</span></button>\n        <button class=\"btn_slide btn_next\" data-direction=\"next\" data-tiara-layer=\"btn_after\" style=\"outline: 0px;\"><span class=\"ico_news\">다음</span></button>\n        <a class=\"link_all\" data-tiara-layer=\"more\" href=\"/ranking/\"><span class=\"txt_news\">전체보기</span><span class=\"ico_news\"></span></a>\n    </div>\n</div>\n\n\n    <div class=\"aside_g aside_series\">\n        <h3 class=\"tit_news\">추천연재</h3>\n        <div class=\"cont_aside\">\n            <ul class=\"list_thumb\">\n                    <li>\n                            <a class=\"link_thumb\" href=\"https://v.daum.net/v/20210413165330064\">\n                                <img alt=\"[사사건건 플러스]① 4차 유행 문턱..'거리두기·자가검사 키트 실효성' 전문가 의견은?\" aria-hidden=\"true\" class=\"thumb_g\" height=\"62\" src=\"https://img1.daumcdn.net/thumb/S62x62ht.u/?fname=https%3A%2F%2Ft1.daumcdn.net%2Fnews%2F202104%2F13%2Fkbs%2F20210413165330773oeyv.jpg&amp;scode=media\" width=\"62\"/>\n                            </a>\n                        <div class=\"cont_thumb\">\n                            <em class=\"emph_g tit_series\"><a class=\"link_txt\" href=\"/series/5116246\">사사건건 플러스</a></em>\n                            <strong class=\"tit_thumb\"><a class=\"link_txt\" href=\"https://v.daum.net/v/20210413165330064\">① 4차 유행 문턱..'거리두기·자가검사 키트 실효성' 전문가 의견은?</a></strong>\n                        </div>\n                    </li>\n                    <li>\n                            <a class=\"link_thumb\" href=\"https://v.daum.net/v/20210413164532712\">\n                                <img alt=\"[1번지현장] 노웅래 더불어민주당 의원에게 묻는 '쇄신'\" aria-hidden=\"true\" class=\"thumb_g\" height=\"62\" src=\"https://img1.daumcdn.net/thumb/S62x62ht.u/?fname=https%3A%2F%2Ft1.daumcdn.net%2Fnews%2F202104%2F13%2Fnewsy%2F20210413164533031plpg.jpg&amp;scode=media\" width=\"62\"/>\n                            </a>\n                        <div class=\"cont_thumb\">\n                            <em class=\"emph_g tit_series\"><a class=\"link_txt\" href=\"/series/1799711\">1번지 현장</a></em>\n                            <strong class=\"tit_thumb\"><a class=\"link_txt\" href=\"https://v.daum.net/v/20210413164532712\"> 노웅래 더불어민주당 의원에게 묻는 '쇄신'</a></strong>\n                        </div>\n                    </li>\n            </ul>\n        </div>\n    </div>\n\n<div class=\"aside_shopping\">\n    <h3 class=\"screen_out\">쇼핑</h3>\n    <div class=\"cont_aside\">\n        <div id=\"daum-sfocus-root\"></div>\n    </div>\n</div>\n\n    <script>\n        daum_sfocus_adunit = \"DAU-9ff5f7c22\";\n        daum_sfocus_cp = \"pc_media_news\";\n        daum_sfocus_channel = \"media\";\n\n        (function (d) {\n            var a = d.createElement('script');\n            a.type = 'text/javascript';\n            a.async = true;\n            a.src = 'https://keyword.ad.daum.net/script/load_sfocus.js';\n            var s = d.getElementsByTagName('script')[0];\n            s.parentNode.insertBefore(a, s);\n        })(self.document);\n    </script>\n</div>\n    </div>\n</div>\n\n\n<hr class=\"hide\"/>\n<div class=\"footer_comm\" id=\"kakaoFoot\" role=\"contentinfo\">\n\t<div class=\"inner_foot #FOOTER\" data-tiara-layer=\"FOOTER\">\n\t\t<div class=\"direct_link #direct\" data-tiara-layer=\"direct\"> \n\t\t\t<h2 class=\"tit_direct\">바로가기</h2>\n\t\t\t<div class=\"item_bundle\">\n\t\t\t\t<a class=\"link_txt #direct_newshome\" data-tiara-layer=\"direct_newshome\" href=\"/\">뉴스홈</a>\n\t\t\t\t<a class=\"link_txt #direct_society\" data-tiara-layer=\"direct_society\" href=\"/society\" style=\"display: none;\">사회</a>\n\t\t\t\t<a class=\"link_txt #direct_politics\" data-tiara-layer=\"direct_politics\" href=\"/politics\" style=\"display: none;\">정치</a>\n\t\t\t\t<a class=\"link_txt #direct_economic\" data-tiara-layer=\"direct_economic\" href=\"/economic\" style=\"display: none;\">경제</a>\n\t\t\t\t<a class=\"link_txt #direct_foreign\" data-tiara-layer=\"direct_foreign\" href=\"/foreign\" style=\"display: none;\">국제</a>\n\t\t\t\t<a class=\"link_txt #direct_culture\" data-tiara-layer=\"direct_culture\" href=\"/culture\" style=\"display: none;\">문화</a>\n\t\t\t\t<a class=\"link_txt #direct_digital\" data-tiara-layer=\"direct_digital\" href=\"/digital\" style=\"display: none;\">IT</a>\n\t\t\t\t<a class=\"link_txt #direct_photo\" data-tiara-layer=\"direct_photo\" href=\"/photo\" style=\"display: none;\">포토</a>\n\t\t\t\t<a class=\"link_txt #direct_tv\" data-tiara-layer=\"direct_tv\" href=\"/tv\" style=\"display: none;\">TV</a>\n\t\t\t</div>\n\t\t\t<div class=\"item_bundle\">\n\t\t\t\t<a class=\"link_txt #direct_media\" data-tiara-layer=\"direct_media\" href=\"/cp\">언론사별 뉴스</a>\n\t\t\t</div>\n\t\t\t<div class=\"item_bundle\">\n\t\t\t\t<a class=\"link_txt #direct_history\" data-tiara-layer=\"direct_history\" href=\"/newsbox\">배열이력</a>\n\t\t\t</div>\n\t\t\t<div class=\"item_bundle\">\n\t\t\t\t<a class=\"link_txt #direct_all\" data-tiara-layer=\"direct_all\" href=\"/breakingnews\">전체뉴스</a>\n\t\t\t\t<a class=\"link_txt #direct_rank\" data-tiara-layer=\"direct_rank\" href=\"/ranking/popular\" style=\"display: none;\">랭킹</a>\n\t\t\t\t<a class=\"link_txt #direct_series\" data-tiara-layer=\"direct_series\" href=\"/series\" style=\"display: none;\">연재</a>\n\t\t\t\t<a class=\"link_txt #direct_1boon\" data-tiara-layer=\"direct_1boon\" href=\"/1boon\" style=\"display: none;\">1boon</a>\n\t\t\t</div>\n\t\t\t<button class=\"btn_fold\" style=\"outline: 0px;\" type=\"button\"><span class=\"ico_news\">바로가기 링크 더보기/접기</span></button>\n\n\t\t</div>\n\t\t<h2 class=\"screen_out\">서비스 이용정보</h2>\n\t\t<div class=\"footer_link\">\n\t\t\t<a class=\"link_info #info_daumnews\" data-tiara-layer=\"info_daumnews\" href=\"/info/intro\">다음뉴스 소개</a> <span class=\"txt_dot\"> ・ </span>\n\t\t\t<a class=\"link_info #notice\" data-tiara-layer=\"notice\" href=\"/notice\">공지사항</a> <span class=\"txt_dot\"> ・ </span>\n\t\t\t<a class=\"link_info #bbsrule\" data-tiara-layer=\"bbsrule\" href=\"/info/bbsrule\">게시물 운영원칙</a> <span class=\"txt_dot\"> ・ </span>\n\t\t\t<a class=\"link_info #policy\" data-tiara-layer=\"policy\" href=\"http://policy.daum.net/info/info\">서비스 약관/정책</a> <span class=\"txt_dot\"> ・ </span>\n\t\t\t<a class=\"link_info #harmony\" data-tiara-layer=\"harmony\" href=\"https://with.kakao.com/media\">뉴스제휴</a> <span class=\"txt_dot\"> ・ </span>\n\t\t\t<a class=\"link_info #adinfo\" data-tiara-layer=\"adinfo\" href=\"https://business.kakao.com\">비즈니스</a> <span class=\"txt_dot\"> ・ </span>\n\t\t\t<a class=\"link_info #redbell\" data-tiara-layer=\"redbell\" href=\"https://cs.daum.net/redbell/top.html\">권리침해신고</a> <span class=\"txt_dot\"> ・ </span>\n\t\t\t<a class=\"link_info #consumer\" data-tiara-layer=\"consumer\" href=\"http://cs.daum.net/faq/63.html\">다음뉴스 고객센터</a>\n\t\t</div>\n\t\t<div class=\"footer_link\">\n\t\t\t<a class=\"link_info #newscenter\" data-tiara-layer=\"newscenter\" href=\"/info/newscenter24\">24시간 뉴스센터</a> <span class=\"txt_dot\"> ・ </span>\n\t\t\t<a class=\"link_info #edit\" data-tiara-layer=\"edit\" href=\"/info/edit\">서비스원칙</a> <span class=\"txt_dot\"> ・ </span>\n\t\t\t<a class=\"link_info #correct\" data-tiara-layer=\"correct\" href=\"/info/correct\">바로잡습니다</a> <span class=\"txt_dot\"> ・ </span>\n\t\t\t<span class=\"link_info\">기사배열책임자 : 김희정</span> <span class=\"txt_dot\"> ・ </span>\n\t\t\t<span class=\"link_info\">청소년보호책임자 : 이준목</span>\n\t\t</div>\n\t\t<div class=\"info_copyright\">\n\t\t\t<strong class=\"info_warn\">뉴스 기사에 대한 저작권 및 법적 책임은 자료제공사 또는 <br/>글쓴이에 있으며, Kakao의 입장과 다를 수 있습니다.</strong>\n\t\t\t<small class=\"txt_copyright\">Copyright © <strong class=\"txt_kakao\"><a class=\"link_kakao\" href=\"http://www.kakaocorp.com/\">Kakao Corp.</a></strong> All rights reserved.</small>\n\t\t</div>\n\t</div>\n</div>\n\n<script src=\"//t1.daumcdn.net/media/kraken/news/199505b/footer.merged.js\"></script>\n    <script async=\"\" src=\"//t1.daumcdn.net/kas/static/ba.min.js\" type=\"text/javascript\"></script>\n</div>\n\n</body></html>\n"
     ]
    }
   ],
   "source": [
    "print(soup)"
   ]
  },
  {
   "cell_type": "code",
   "execution_count": 11,
   "metadata": {},
   "outputs": [],
   "source": [
    "selector = '#mArticle > div.rank_news > ul.list_news2 > li:nth-child(1) > div.cont_thumb > strong > a'"
   ]
  },
  {
   "cell_type": "code",
   "execution_count": 18,
   "metadata": {},
   "outputs": [
    {
     "output_type": "execute_result",
     "data": {
      "text/plain": [
       "159"
      ]
     },
     "metadata": {},
     "execution_count": 18
    }
   ],
   "source": [
    "# 웹 브라우저의 개발자 도구를 사용해서 (ctrl+shift+i),\n",
    "# HTML 페이지에서 원하는 element를 찾을 수 있는 CSS selector를 찾음\n",
    "len(soup.select('a.link_txt')) # 시도 1"
   ]
  },
  {
   "cell_type": "code",
   "execution_count": 17,
   "metadata": {},
   "outputs": [
    {
     "output_type": "execute_result",
     "data": {
      "text/plain": [
       "50"
      ]
     },
     "metadata": {},
     "execution_count": 17
    }
   ],
   "source": [
    "len(soup.select('ul.list_news2 > li a.link_txt')) # 시도 2"
   ]
  },
  {
   "cell_type": "code",
   "execution_count": 25,
   "metadata": {},
   "outputs": [
    {
     "output_type": "stream",
     "name": "stdout",
     "text": [
      "\"700명밖에 안 죽었다, UN 천천히 오라\" 미얀마 강타한 사진     https://v.daum.net/v/20210413145127891\n\"남양유업 '불가리스', 코로나19 억제 효과 77.8%\"     https://v.daum.net/v/20210413150654639\n오세훈의 '일당백' 국무회의..文정부에 부동산·코로나 '직언'     https://v.daum.net/v/20210413150133389\n\"누가 손해\" 고덕동 아파트, 택배노조 대화 요청에도 '묵묵부답'     https://v.daum.net/v/20210413145502035\n\"오세훈, 정직하고 깨끗해 정치인 안맞아\" 아내 송현옥이 말하는 오 시장     https://v.daum.net/v/20210413141554284\n\"평균키 160cm 방글라데시, 한국인 가면 연예인\"..유튜버 논란     https://v.daum.net/v/20210413114503135\n[단독] \"중국 김치 걱정돼\" 옆자리 손님 대화에 \"무시하냐\" 시비     https://v.daum.net/v/20210413154200187\n\"비빔밥에서 고추장 빼달라는 게 '맘충' 욕 먹을 행동인가요?\"     https://v.daum.net/v/20210413113502661\n혹독한 신고식..오세훈, 첫 국무회의서 코로나·부동산 충돌     https://v.daum.net/v/20210413155056577\n집도 직장도 없다..부모에 얹혀사는 캥거루족 \"돌파구는 주식\"     https://v.daum.net/v/20210413153214811\n\"건방지다\"\"합당 답 내놔\" 기립박수 받던 안철수 잔인한 4월     https://v.daum.net/v/20210413151251962\n국민 73%가 항체..영국, 식당·술집 석달만에 문열자 '환호'     https://v.daum.net/v/20210413122911402\n대구 카페서 손님 폭행, 기절해도 또 때린  30대 남성..검찰 송치     https://v.daum.net/v/20210413141818372\n이스라엘도 제쳤다..성인 93% 백신맞은 부탄, 초고속 접종 비결은?     https://v.daum.net/v/20210413135148298\n'모더나가 먼저' 文대통령에 러브콜 그 이후..국내생산 오리무중, 왜     https://v.daum.net/v/20210413140833999\n삼성전자, 16일 사상 최대 배당금 13조 풀린다..외국인 7.7조 배당     https://v.daum.net/v/20210413150352508\n\"한국 여행 못가는 대신 한국 제품 산다\"..동남아서 잘 나가는 'K-유통'     https://v.daum.net/v/20210413150144397\n의사출신 與신현영, '서울형 방역' 吳호평..\"제 주장과 동일\"     https://v.daum.net/v/20210413135910563\n文 지시한 4대강 보(洑) 개방.. 3년 만에 수질은 더 나빠졌다     https://v.daum.net/v/20210413120035663\n시장 부동산 투기 의혹에 압수수색..'긴장감' 감도는 광양시청     https://v.daum.net/v/20210413140602883\n20대 엄마 긴급 체포 꼭 필요했나 ..아빠 손에 남겨진 영아 중태     https://v.daum.net/v/20210413162105843\n\"남자 소변보는 모습 밖에서도 보여\"..포천 관광지 화장실 '논란'     https://v.daum.net/v/20210413132407449\n[영상] '노마스크' 지적받자 암환자에 고의로 기침한 여성     https://v.daum.net/v/20210413152601533\n매일 아몬드 먹었더니 피부 톤이..[식탐]     https://v.daum.net/v/20210413151701122\n김부선, 진중권·서민에 \"한남 꼰대..이재명 '썸씽'이 허구라고?\"     https://v.daum.net/v/20210413101643569\n\"고인 명복 빌겠다\" 국민의힘 지도부, 안산 '세월호 추모식' 참석 (종합)     https://v.daum.net/v/20210413140955055\n오세훈식 방역 발표하자..보수단체 \"집회제한도 풀어달라\"     https://v.daum.net/v/20210413154220213\n역대 가장 늦은 한파주의보..일찍 핀 꽃·농작물 어쩌나?     https://v.daum.net/v/20210413132926575\n하태경 \"야당 몫 상임위원장 돌려줘야\"..손혜원 \"與 반성을 왜 당신들한테?\"     https://v.daum.net/v/20210413154428294\n오세훈 '노래방 신속항원검사 도입'에 업주들 \"키트 비용은 누가?\"     https://v.daum.net/v/20210413131015204\n케냐 섬에 5개월 째 고립된 멸종위기 기린들 구조작전 (영상)     https://v.daum.net/v/20210413153106769\n\"北, 2027년 최대 核 242개 보유..일정 규모 넘으면 '참수' 경고해야\"     https://v.daum.net/v/20210413154604371\n日 \"후쿠시마 오염수 해양 방류\"..韓 \"강한 유감\"(종합)     https://v.daum.net/v/20210413150025311\n자전거 탄 70대 노인 쳐 사망..BMW 운전자 무죄된 이유는?     https://v.daum.net/v/20210413142022458\n청주서 25톤 유조차 3m 아래 논 추락..경유 누출     https://v.daum.net/v/20210413154108155\n\"사이코패스\" 동거녀 살해 후 시신 훼손 60대 사형 구형     https://v.daum.net/v/20210413144827731\n제주 다랑쉬 오름 인근 농지서 단속 느슨한 주말 틈타 토사 반출     https://v.daum.net/v/20210413163035184\n음식 사오려..도로 한가운데 트렁크 열고 정차한 SUV '황당'     https://v.daum.net/v/20210413104417157\n55만원대 카카오 주식, 11만원..액면분할 후 주가 오를까     https://v.daum.net/v/20210413142034466\n윤석열, 국민의힘으로 들어올까? 지지율 고공행진 유지될까? [레이더P]     https://v.daum.net/v/20210413151501025\n원주세브란스 연구팀 \"운동이 코로나19 감염위험·사망률 줄여\"     https://v.daum.net/v/20210413145725135\n[현장연결] 질병청 \"자가검사키트 정확도 낮지만 검체채취 편의성 높아\"     https://v.daum.net/v/20210413144119348\n[영상] \"실수로 테이저건 대신 권총을\" 20대 흑인 청년, 美 경찰 총격에 숨져     https://v.daum.net/v/20210413163553372\n101층 부산 엘시티 레지던스서 불법 유흥주점 운영 일당 적발     https://v.daum.net/v/20210413143836245\n은행 실수로 입금된 13억원, 돌려주지 않아 체포..\"차 사고 집 구매에 보태\"     https://v.daum.net/v/20210413001022893\n中매체 \"日 원전오염수, 수백년 동안 사라지지 않는다\"     https://v.daum.net/v/20210413152616544\n부산서 무증상 확진 41%달해..부산시청도 발칵 뒤집혀     https://v.daum.net/v/20210413152700555\n장영수 대구고검장 사의..\"법과 원칙만이 검찰의 버팀목\"     https://v.daum.net/v/20210413152301413\n배추김치 빈자리에 국내산 깍두기..식당가, 중국산 김치 파동 여파     https://v.daum.net/v/20210413135856552\n\"좋은 남성임을 입증하라\" 이게 여가부 산하 '성인지 강의'     https://v.daum.net/v/20210413155717839\n"
     ]
    }
   ],
   "source": [
    "for link in soup.select('ul.list_news2 > li a.link_txt'):\n",
    "    print(link.text.strip(),'   ', link['href']) "
   ]
  },
  {
   "cell_type": "code",
   "execution_count": 34,
   "metadata": {},
   "outputs": [
    {
     "output_type": "stream",
     "name": "stdout",
     "text": [
      "[1] https://v.daum.net/v/20210413145127891 \"700명밖에 안 죽었다, UN 천천히 오라\" 미얀마 강타한 사진\n",
      "[2] https://v.daum.net/v/20210413150654639 \"남양유업 '불가리스', 코로나19 억제 효과 77.8%\"\n",
      "[3] https://v.daum.net/v/20210413150133389 오세훈의 '일당백' 국무회의..文정부에 부동산·코로나 '직언'\n",
      "[4] https://v.daum.net/v/20210413145502035 \"누가 손해\" 고덕동 아파트, 택배노조 대화 요청에도 '묵묵부답'\n",
      "[5] https://v.daum.net/v/20210413141554284 \"오세훈, 정직하고 깨끗해 정치인 안맞아\" 아내 송현옥이 말하는 오 시장\n",
      "[6] https://v.daum.net/v/20210413114503135 \"평균키 160cm 방글라데시, 한국인 가면 연예인\"..유튜버 논란\n",
      "[7] https://v.daum.net/v/20210413154200187 [단독] \"중국 김치 걱정돼\" 옆자리 손님 대화에 \"무시하냐\" 시비\n",
      "[8] https://v.daum.net/v/20210413113502661 \"비빔밥에서 고추장 빼달라는 게 '맘충' 욕 먹을 행동인가요?\"\n",
      "[9] https://v.daum.net/v/20210413155056577 혹독한 신고식..오세훈, 첫 국무회의서 코로나·부동산 충돌\n",
      "[10] https://v.daum.net/v/20210413153214811 집도 직장도 없다..부모에 얹혀사는 캥거루족 \"돌파구는 주식\"\n",
      "[11] https://v.daum.net/v/20210413151251962 \"건방지다\"\"합당 답 내놔\" 기립박수 받던 안철수 잔인한 4월\n",
      "[12] https://v.daum.net/v/20210413122911402 국민 73%가 항체..영국, 식당·술집 석달만에 문열자 '환호'\n",
      "[13] https://v.daum.net/v/20210413141818372 대구 카페서 손님 폭행, 기절해도 또 때린  30대 남성..검찰 송치\n",
      "[14] https://v.daum.net/v/20210413135148298 이스라엘도 제쳤다..성인 93% 백신맞은 부탄, 초고속 접종 비결은?\n",
      "[15] https://v.daum.net/v/20210413140833999 '모더나가 먼저' 文대통령에 러브콜 그 이후..국내생산 오리무중, 왜\n",
      "[16] https://v.daum.net/v/20210413150352508 삼성전자, 16일 사상 최대 배당금 13조 풀린다..외국인 7.7조 배당\n",
      "[17] https://v.daum.net/v/20210413150144397 \"한국 여행 못가는 대신 한국 제품 산다\"..동남아서 잘 나가는 'K-유통'\n",
      "[18] https://v.daum.net/v/20210413135910563 의사출신 與신현영, '서울형 방역' 吳호평..\"제 주장과 동일\"\n",
      "[19] https://v.daum.net/v/20210413120035663 文 지시한 4대강 보(洑) 개방.. 3년 만에 수질은 더 나빠졌다\n",
      "[20] https://v.daum.net/v/20210413140602883 시장 부동산 투기 의혹에 압수수색..'긴장감' 감도는 광양시청\n",
      "[21] https://v.daum.net/v/20210413162105843 20대 엄마 긴급 체포 꼭 필요했나 ..아빠 손에 남겨진 영아 중태\n",
      "[22] https://v.daum.net/v/20210413132407449 \"남자 소변보는 모습 밖에서도 보여\"..포천 관광지 화장실 '논란'\n",
      "[23] https://v.daum.net/v/20210413152601533 [영상] '노마스크' 지적받자 암환자에 고의로 기침한 여성\n",
      "[24] https://v.daum.net/v/20210413151701122 매일 아몬드 먹었더니 피부 톤이..[식탐]\n",
      "[25] https://v.daum.net/v/20210413101643569 김부선, 진중권·서민에 \"한남 꼰대..이재명 '썸씽'이 허구라고?\"\n",
      "[26] https://v.daum.net/v/20210413140955055 \"고인 명복 빌겠다\" 국민의힘 지도부, 안산 '세월호 추모식' 참석 (종합)\n",
      "[27] https://v.daum.net/v/20210413154220213 오세훈식 방역 발표하자..보수단체 \"집회제한도 풀어달라\"\n",
      "[28] https://v.daum.net/v/20210413132926575 역대 가장 늦은 한파주의보..일찍 핀 꽃·농작물 어쩌나?\n",
      "[29] https://v.daum.net/v/20210413154428294 하태경 \"야당 몫 상임위원장 돌려줘야\"..손혜원 \"與 반성을 왜 당신들한테?\"\n",
      "[30] https://v.daum.net/v/20210413131015204 오세훈 '노래방 신속항원검사 도입'에 업주들 \"키트 비용은 누가?\"\n",
      "[31] https://v.daum.net/v/20210413153106769 케냐 섬에 5개월 째 고립된 멸종위기 기린들 구조작전 (영상)\n",
      "[32] https://v.daum.net/v/20210413154604371 \"北, 2027년 최대 核 242개 보유..일정 규모 넘으면 '참수' 경고해야\"\n",
      "[33] https://v.daum.net/v/20210413150025311 日 \"후쿠시마 오염수 해양 방류\"..韓 \"강한 유감\"(종합)\n",
      "[34] https://v.daum.net/v/20210413142022458 자전거 탄 70대 노인 쳐 사망..BMW 운전자 무죄된 이유는?\n",
      "[35] https://v.daum.net/v/20210413154108155 청주서 25톤 유조차 3m 아래 논 추락..경유 누출\n",
      "[36] https://v.daum.net/v/20210413144827731 \"사이코패스\" 동거녀 살해 후 시신 훼손 60대 사형 구형\n",
      "[37] https://v.daum.net/v/20210413163035184 제주 다랑쉬 오름 인근 농지서 단속 느슨한 주말 틈타 토사 반출\n",
      "[38] https://v.daum.net/v/20210413104417157 음식 사오려..도로 한가운데 트렁크 열고 정차한 SUV '황당'\n",
      "[39] https://v.daum.net/v/20210413142034466 55만원대 카카오 주식, 11만원..액면분할 후 주가 오를까\n",
      "[40] https://v.daum.net/v/20210413151501025 윤석열, 국민의힘으로 들어올까? 지지율 고공행진 유지될까? [레이더P]\n",
      "[41] https://v.daum.net/v/20210413145725135 원주세브란스 연구팀 \"운동이 코로나19 감염위험·사망률 줄여\"\n",
      "[42] https://v.daum.net/v/20210413144119348 [현장연결] 질병청 \"자가검사키트 정확도 낮지만 검체채취 편의성 높아\"\n",
      "[43] https://v.daum.net/v/20210413163553372 [영상] \"실수로 테이저건 대신 권총을\" 20대 흑인 청년, 美 경찰 총격에 숨져\n",
      "[44] https://v.daum.net/v/20210413143836245 101층 부산 엘시티 레지던스서 불법 유흥주점 운영 일당 적발\n",
      "[45] https://v.daum.net/v/20210413001022893 은행 실수로 입금된 13억원, 돌려주지 않아 체포..\"차 사고 집 구매에 보태\"\n",
      "[46] https://v.daum.net/v/20210413152616544 中매체 \"日 원전오염수, 수백년 동안 사라지지 않는다\"\n",
      "[47] https://v.daum.net/v/20210413152700555 부산서 무증상 확진 41%달해..부산시청도 발칵 뒤집혀\n",
      "[48] https://v.daum.net/v/20210413152301413 장영수 대구고검장 사의..\"법과 원칙만이 검찰의 버팀목\"\n",
      "[49] https://v.daum.net/v/20210413135856552 배추김치 빈자리에 국내산 깍두기..식당가, 중국산 김치 파동 여파\n",
      "[50] https://v.daum.net/v/20210413155717839 \"좋은 남성임을 입증하라\" 이게 여가부 산하 '성인지 강의'\n"
     ]
    }
   ],
   "source": [
    "for i in range(1,51):\n",
    "    selector = f'ul.list_news2 > li:nth-child({i}) > div.cont_thumb > strong > a'\n",
    "    link = soup.select_one(selector)\n",
    "    print(f'[{i}]',link['href'],link.text.strip())"
   ]
  },
  {
   "cell_type": "code",
   "execution_count": null,
   "metadata": {},
   "outputs": [],
   "source": []
  }
 ]
}