{
 "metadata": {
  "language_info": {
   "codemirror_mode": {
    "name": "ipython",
    "version": 3
   },
   "file_extension": ".py",
   "mimetype": "text/x-python",
   "name": "python",
   "nbconvert_exporter": "python",
   "pygments_lexer": "ipython3",
   "version": "3.8.8"
  },
  "orig_nbformat": 2,
  "kernelspec": {
   "name": "python3",
   "display_name": "Python 3.8.8 64-bit",
   "metadata": {
    "interpreter": {
     "hash": "dddb17ea93c18165eccab44a79c5ce0b5c677e2de303579c5906a1a0ad969dde"
    }
   }
  }
 },
 "nbformat": 4,
 "nbformat_minor": 2,
 "cells": [
  {
   "cell_type": "code",
   "execution_count": 94,
   "metadata": {},
   "outputs": [],
   "source": [
    "from bs4 import BeautifulSoup"
   ]
  },
  {
   "cell_type": "code",
   "execution_count": 29,
   "metadata": {},
   "outputs": [],
   "source": [
    "# 파일 열기\n",
    "f = open('C:\\Lab\\Lab_Python\\project\\web01.html', mode='r',encoding='UTF8')"
   ]
  },
  {
   "cell_type": "code",
   "execution_count": 30,
   "metadata": {},
   "outputs": [],
   "source": [
    "soup = BeautifulSoup(markup= f , features='html.parser')\n",
    "# markup : open된 HTML 파일 객체\n",
    "# feature: HTML 문서를 분석(parser)할 수 있는 라이브러리 이름"
   ]
  },
  {
   "cell_type": "code",
   "execution_count": 31,
   "metadata": {},
   "outputs": [
    {
     "output_type": "execute_result",
     "data": {
      "text/plain": [
       "bs4.BeautifulSoup"
      ]
     },
     "metadata": {},
     "execution_count": 31
    }
   ],
   "source": [
    "type(soup)"
   ]
  },
  {
   "cell_type": "code",
   "execution_count": 32,
   "metadata": {},
   "outputs": [
    {
     "output_type": "stream",
     "name": "stdout",
     "text": [
      "<!DOCTYPE html>\n\n<!-- HTML 문서의 주석\nHTML 문서의 구조:\n    <tag attribute_name=\"attribute_value\">content</tag>\nContent가 없는 태그인 경우:\n    <tag attr_name=\"attr_val\" /> 또는\n    <tag attr_name=\"attr_val\">\n-->\n<html lang=\"en\">\n<head>\n<meta charset=\"utf-8\"/>\n<title>Web 1</title>\n</head>\n<body>\n<!-- h1 ~ h6: heading -->\n<h1>처음 만드는 HTML 파일</h1>\n<h2>HTML: HyperText Markup Language</h2>\n<!-- a(anchor): HTML 파일에서 링크 생성 -->\n<a href=\"https://www.daum.net/\">다음 카카오</a>\n<br/> <!-- br(line break): 줄바꿈 -->\n<a href=\"https://www.naver.com/\">네이버</a>\n<br/>\n<a href=\"https://www.google.com/\">\n<img src=\"googlelogo.png\" style=\"width: 100px;\"/>\n</a>\n<div>여기는 division입니다.<br/>\n    div는 여백(margin)이 없습니다.\n    </div>\n<p>여기는 <strong>paragraph</strong>입니다.<br/>\n    p는 <em>여백(margin)</em>이 있습니다.\n    </p>\n<!-- HTML 요소(태그)\n        1) block-level 요소(태그): 브라우저의 가로 길이 전체를 차지하는 태그\n            줄바꿈이 자동으로 생김.\n            <h1>, <h6>, <div>, <p>, <table>, <ul>, <li>, ...\n        2) inline 요소(태그): 컨텐츠의 가로 길이 크기만 차지하는 태그\n            줄바꿈이 자동으로 생기지 않음. 줄을 바꾸려면 <br>을 사용해야 함.\n            <a>, <img>, <span>, ...\n    -->\n</body>\n</html>\n"
     ]
    }
   ],
   "source": [
    "print(soup)"
   ]
  },
  {
   "source": [
    "## BS 객체를 사용해서 원하는 정보들을 추출"
   ],
   "cell_type": "markdown",
   "metadata": {}
  },
  {
   "cell_type": "code",
   "execution_count": 35,
   "metadata": {},
   "outputs": [
    {
     "output_type": "stream",
     "name": "stdout",
     "text": [
      "<h1>처음 만드는 HTML 파일</h1>\n<a href=\"https://www.daum.net/\">다음 카카오</a>\n<a href=\"https://www.daum.net/\">다음 카카오</a>\n"
     ]
    }
   ],
   "source": [
    "# BS.find('HTML 태그 이름') : HTML 문서에서 argument로 전달한 태그 요소를 찾아서 리턴\n",
    "element = soup.find(name = 'h1')\n",
    "print(element)\n",
    "# find 메서드는 문서에서 가장 먼저 등장하는 HTML 요소를 찾아서 리턴\n",
    "print(soup.find('a'))\n",
    "print(soup.find(name='a'))"
   ]
  },
  {
   "cell_type": "code",
   "execution_count": 37,
   "metadata": {},
   "outputs": [
    {
     "output_type": "execute_result",
     "data": {
      "text/plain": [
       "[<a href=\"https://www.daum.net/\">다음 카카오</a>,\n",
       " <a href=\"https://www.naver.com/\">네이버</a>,\n",
       " <a href=\"https://www.google.com/\">\n",
       " <img src=\"googlelogo.png\" style=\"width: 100px;\"/>\n",
       " </a>]"
      ]
     },
     "metadata": {},
     "execution_count": 37
    }
   ],
   "source": [
    "# find_all 메서드는 문서에 나오는 모든 HTML 요소를 찾아서 리스트로 리턴\n",
    "soup.find_all(name='a')"
   ]
  },
  {
   "source": [
    "## HTML tag 요소의 텍스트(text) 또는 속성(attribute)의 값을 찾는 방법"
   ],
   "cell_type": "markdown",
   "metadata": {}
  },
  {
   "source": [
    "    BeautifulSoup.find(name='태그이름', attrs={'속성이름':'속성값'})\n",
    "    BeautifulSoup.태그이름 == BeautifulSoup.find(name='태그이름')\n",
    "    \n",
    "    BeautifulSoup.find_all(name='태그이름', attrs={'속성이름':'속성값'})\n",
    "    BeautifulSoup('태그이름') == BeautifulSoup.find_all(name='태그이름')\n",
    "    BeautifulSoup(attrs={}) == BeautifulSoup.find_all(attrs={})\n",
    "\n",
    "    BeautifulSoup.find(**kwargs), BeautifulSoup.find_all(**kwargs)\n",
    "        BeautifulSoup.find(class_='클래스이름', id = '아이디값')\n",
    "        BeautifulSoup.find_all(class_='클래스이름', id='아이디값')\n"
   ],
   "cell_type": "markdown",
   "metadata": {}
  },
  {
   "cell_type": "code",
   "execution_count": 56,
   "metadata": {},
   "outputs": [
    {
     "output_type": "stream",
     "name": "stdout",
     "text": [
      "<a href=\"https://www.daum.net/\">다음 카카오</a>\n[<a href=\"https://www.daum.net/\">다음 카카오</a>, <a href=\"https://www.naver.com/\">네이버</a>, <a href=\"https://www.google.com/\">\n<img src=\"googlelogo.png\" style=\"width: 100px;\"/>\n</a>]\n다음 카카오\nhttps://www.daum.net/\nhttps://www.daum.net/\n"
     ]
    }
   ],
   "source": [
    "print(soup.find('a'))                  # html tag element\n",
    "print(soup.find_all('a'))              # html tag의 모든 element\n",
    "print(soup.find('a').text)             # html tag text(start tag와 end tag 사이에 있는 문자열)\n",
    "print(soup.find('a').get(key='href'))  # html tag의 'href' 속성의 값\n",
    "print(soup.find('a').get('href'))"
   ]
  },
  {
   "cell_type": "code",
   "execution_count": 57,
   "metadata": {},
   "outputs": [
    {
     "output_type": "stream",
     "name": "stdout",
     "text": [
      "https://www.daum.net/\nhttps://www.naver.com/\nhttps://www.google.com/\n"
     ]
    }
   ],
   "source": [
    "# 모든 <a> element의 href 속성을 출력\n",
    "\n",
    "a = soup.find_all('a')\n",
    "\n",
    "for i in a:\n",
    "    print(i.get('href'))"
   ]
  },
  {
   "cell_type": "code",
   "execution_count": 58,
   "metadata": {},
   "outputs": [
    {
     "output_type": "stream",
     "name": "stdout",
     "text": [
      "<h1>처음 만드는 HTML 파일</h1>\n<h1>처음 만드는 HTML 파일</h1>\n"
     ]
    }
   ],
   "source": [
    "# BS.find('tag_name) => Bs.tag_name\n",
    "print(soup.find('h1'))\n",
    "print(soup.h1)"
   ]
  },
  {
   "cell_type": "code",
   "execution_count": 59,
   "metadata": {},
   "outputs": [
    {
     "output_type": "stream",
     "name": "stdout",
     "text": [
      "처음 만드는 HTML 파일\n처음 만드는 HTML 파일\n"
     ]
    }
   ],
   "source": [
    "print(soup.find('h1').text)\n",
    "print(soup.h1.text)"
   ]
  },
  {
   "cell_type": "code",
   "execution_count": 62,
   "metadata": {},
   "outputs": [
    {
     "output_type": "stream",
     "name": "stdout",
     "text": [
      "<a href=\"https://www.daum.net/\">다음 카카오</a>\nhttps://www.daum.net/\nhttps://www.daum.net/\n\n\nhttps://www.daum.net/\nhttps://www.daum.net/\nhttps://www.daum.net/\nhttps://www.daum.net/\n"
     ]
    }
   ],
   "source": [
    "# tag.get('attr_name') => tag['attr_name']\n",
    "print(soup.find('a'))\n",
    "print(soup.find('a').get('href'))\n",
    "print(soup.find('a')['href'])\n",
    "\n",
    "print()\n",
    "print()\n",
    "\n",
    "print(soup.find('a').get('href'))\n",
    "print(soup.find('a')['href'])\n",
    "print(soup.a.get('href'))\n",
    "print(soup.a['href'])"
   ]
  },
  {
   "cell_type": "code",
   "execution_count": 63,
   "metadata": {},
   "outputs": [],
   "source": [
    "# open 했던 HTML 파일을 close\n",
    "f.close()"
   ]
  },
  {
   "cell_type": "code",
   "execution_count": 114,
   "metadata": {},
   "outputs": [
    {
     "output_type": "stream",
     "name": "stdout",
     "text": [
      "다음 카카오\n다음 카카오\n"
     ]
    }
   ],
   "source": [
    "#> 파일 열기 부터 한번에 해보기!!\n",
    "with open(file = 'C:\\Lab\\Lab_Python\\project\\web01.html', mode='r',encoding='UTF8') as f:\n",
    "    soup = BeautifulSoup(markup=f, features='html.parser')\n",
    "    a = soup.find(name = 'a', attrs = {'href':'https://www.daum.net/'})\n",
    "    b = soup.find('a',{'href':'https://www.daum.net/'})\n",
    "    print(a.text)\n",
    "    print(b.text)\n",
    "f.close()"
   ]
  },
  {
   "cell_type": "code",
   "execution_count": 115,
   "metadata": {},
   "outputs": [
    {
     "output_type": "stream",
     "name": "stdout",
     "text": [
      "<div class=\"c1\">여기는 c1 클래스입니다.</div>\n<div class=\"c1\">여기도 c1 클래스입니다.</div>\n<div class=\"c2\">여기는 c2 클래스입니다.</div>\n<div class=\"c2\" id=\"id1\">여기는 c2 클래스, 아이디는 id1입니다.</div>\n"
     ]
    }
   ],
   "source": [
    "# tag 이름으로 HTML element를 찾는 방법\n",
    "\n",
    "with open(file = 'C:\\Lab\\Lab_Python\\project\\web03.html', mode='r', encoding='UTF-8') as f:\n",
    "    soup = BeautifulSoup(markup=f, features='html.parser')\n",
    "    divs = soup('div')\n",
    "    for element in divs:\n",
    "        print(element)\n",
    "f.close()"
   ]
  },
  {
   "cell_type": "code",
   "execution_count": 116,
   "metadata": {},
   "outputs": [
    {
     "output_type": "stream",
     "name": "stdout",
     "text": [
      "<div class=\"c1\">여기는 c1 클래스입니다.</div>\n<div class=\"c1\">여기도 c1 클래스입니다.</div>\n"
     ]
    }
   ],
   "source": [
    "# class 속성값으로 HTML element 찾는 방법\n",
    "\n",
    "with open(file = 'C:\\Lab\\Lab_Python\\project\\web03.html', mode='r', encoding='UTF-8') as f:\n",
    "    soup = BeautifulSoup(markup=f, features='html.parser')\n",
    "    cls = soup(attrs = {'class':'c1'})\n",
    "    for element in cls:\n",
    "        print(element)\n",
    "f.close()"
   ]
  },
  {
   "cell_type": "code",
   "execution_count": 117,
   "metadata": {},
   "outputs": [
    {
     "output_type": "stream",
     "name": "stdout",
     "text": [
      "<div class=\"c2\" id=\"id1\">여기는 c2 클래스, 아이디는 id1입니다.</div>\n"
     ]
    }
   ],
   "source": [
    "# id 속성의 값이 'id1'인 모든 HTML element를 찾음\n",
    "\n",
    "with open(file = 'C:\\Lab\\Lab_Python\\project\\web03.html', mode='r', encoding='UTF-8') as f:\n",
    "    soup = BeautifulSoup(markup=f, features='html.parser')\n",
    "    ids = soup(attrs={'id':'id1'})\n",
    "    for element in ids:\n",
    "        print(element)\n",
    "f.close()"
   ]
  },
  {
   "cell_type": "code",
   "execution_count": 118,
   "metadata": {},
   "outputs": [
    {
     "output_type": "stream",
     "name": "stdout",
     "text": [
      "다음\n네이버\n구글\n"
     ]
    }
   ],
   "source": [
    "# class 속성 값이 'menu_item'인 element들의 text를 출력\n",
    "\n",
    "with open(file = 'C:\\Lab\\Lab_Python\\project\\web03.html', mode='r', encoding='UTF-8') as f:\n",
    "    soup = BeautifulSoup(markup=f, features='html.parser')\n",
    "    cls = soup(attrs={'class':'menu_item'})\n",
    "\n",
    "    for element in cls:\n",
    "        print(element.text.strip())\n",
    "f.close()"
   ]
  },
  {
   "cell_type": "code",
   "execution_count": 119,
   "metadata": {},
   "outputs": [
    {
     "output_type": "stream",
     "name": "stdout",
     "text": [
      "여기는 c2 클래스, 아이디는 id1입니다.\n여기는 c2 클래스, 아이디는 id1입니다.\n"
     ]
    }
   ],
   "source": [
    "# id 속성의 값이 'id1'인 element들의 text를 출력\n",
    "with open(file = 'C:\\Lab\\Lab_Python\\project\\web03.html', mode='r', encoding='UTF-8') as f:\n",
    "    soup = BeautifulSoup(markup=f, features='html.parser')\n",
    "    for element in soup(attrs = {'id':'id1'}): \n",
    "        print(element.text.strip())\n",
    "    for item in soup(id='id1'):\n",
    "        print(item.text.strip())\n",
    "f.close()"
   ]
  },
  {
   "cell_type": "code",
   "execution_count": null,
   "metadata": {},
   "outputs": [],
   "source": []
  }
 ]
}