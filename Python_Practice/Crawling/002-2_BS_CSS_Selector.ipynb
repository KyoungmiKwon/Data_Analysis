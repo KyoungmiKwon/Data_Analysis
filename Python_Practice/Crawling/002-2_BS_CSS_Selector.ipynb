{
 "metadata": {
  "language_info": {
   "codemirror_mode": {
    "name": "ipython",
    "version": 3
   },
   "file_extension": ".py",
   "mimetype": "text/x-python",
   "name": "python",
   "nbconvert_exporter": "python",
   "pygments_lexer": "ipython3",
   "version": "3.8.8"
  },
  "orig_nbformat": 2,
  "kernelspec": {
   "name": "python3",
   "display_name": "Python 3.8.8 64-bit",
   "metadata": {
    "interpreter": {
     "hash": "dddb17ea93c18165eccab44a79c5ce0b5c677e2de303579c5906a1a0ad969dde"
    }
   }
  }
 },
 "nbformat": 4,
 "nbformat_minor": 2,
 "cells": [
  {
   "cell_type": "code",
   "execution_count": 1,
   "metadata": {},
   "outputs": [],
   "source": [
    "from bs4 import BeautifulSoup"
   ]
  },
  {
   "source": [
    "`BeautifulSoup.select('CSS selector')`\n",
    "\n",
    "    * CSS selector *\n",
    "        tag_name\n",
    "        .class_name\n",
    "        #id_name\n",
    "        selector:pseudo_selector\n",
    "        selector1, selector2, ...\n",
    "        ancestor descendent\n",
    "        parent > child"
   ],
   "cell_type": "markdown",
   "metadata": {}
  },
  {
   "source": [
    "HTML Tag Selector"
   ],
   "cell_type": "markdown",
   "metadata": {}
  },
  {
   "cell_type": "code",
   "execution_count": 4,
   "metadata": {},
   "outputs": [],
   "source": [
    "f = open(file='C:\\Lab\\Lab_Python\\project\\web03.html', mode = 'r', encoding='UTF-8')\n",
    "soup = BeautifulSoup(markup=f,features='html5lib')"
   ]
  },
  {
   "cell_type": "code",
   "execution_count": 8,
   "metadata": {},
   "outputs": [
    {
     "output_type": "execute_result",
     "data": {
      "text/plain": [
       "[<div class=\"c1\">여기는 c1 클래스입니다.</div>,\n",
       " <div class=\"c1\">여기도 c1 클래스입니다.</div>,\n",
       " <div class=\"c2\">여기는 c2 클래스입니다.</div>,\n",
       " <div class=\"c2\" id=\"id1\">여기는 c2 클래스, 아이디는 id1입니다.</div>]"
      ]
     },
     "metadata": {},
     "execution_count": 8
    }
   ],
   "source": [
    "soup.select('div')"
   ]
  },
  {
   "cell_type": "code",
   "execution_count": 12,
   "metadata": {},
   "outputs": [
    {
     "output_type": "execute_result",
     "data": {
      "text/plain": [
       "[<a href=\"https://www.daum.net/\">다음</a>,\n",
       " <a href=\"https://www.naver.com/\">네이버</a>,\n",
       " <a href=\"https://www.google.com/\">구글</a>]"
      ]
     },
     "metadata": {},
     "execution_count": 12
    }
   ],
   "source": [
    "soup.select('a')"
   ]
  },
  {
   "source": [
    "Class Selector"
   ],
   "cell_type": "markdown",
   "metadata": {}
  },
  {
   "cell_type": "code",
   "execution_count": 13,
   "metadata": {},
   "outputs": [
    {
     "output_type": "execute_result",
     "data": {
      "text/plain": [
       "[<li class=\"menu_item\">  <!-- list item -->\n",
       "             <a href=\"https://www.daum.net/\">다음</a>\n",
       "         </li>,\n",
       " <li class=\"menu_item\">  <!-- list item -->\n",
       "             <a href=\"https://www.naver.com/\">네이버</a>\n",
       "         </li>,\n",
       " <li class=\"menu_item\">  <!-- list item -->\n",
       "             <a href=\"https://www.google.com/\">구글</a>\n",
       "         </li>]"
      ]
     },
     "metadata": {},
     "execution_count": 13
    }
   ],
   "source": [
    "soup.select('.menu_item')"
   ]
  },
  {
   "cell_type": "code",
   "execution_count": 14,
   "metadata": {},
   "outputs": [
    {
     "output_type": "stream",
     "name": "stdout",
     "text": [
      "--0--\n<li class=\"menu_item\">  <!-- list item -->\n            <a href=\"https://www.daum.net/\">다음</a>\n        </li>\n--1--\n<li class=\"menu_item\">  <!-- list item -->\n            <a href=\"https://www.naver.com/\">네이버</a>\n        </li>\n--2--\n<li class=\"menu_item\">  <!-- list item -->\n            <a href=\"https://www.google.com/\">구글</a>\n        </li>\n"
     ]
    }
   ],
   "source": [
    "for i, x in enumerate(soup.select('.menu_item')):\n",
    "    print(f'--{i}--')\n",
    "    print(x)"
   ]
  },
  {
   "cell_type": "code",
   "execution_count": 18,
   "metadata": {},
   "outputs": [
    {
     "output_type": "execute_result",
     "data": {
      "text/plain": [
       "[<div class=\"c1\">여기는 c1 클래스입니다.</div>, <div class=\"c1\">여기도 c1 클래스입니다.</div>]"
      ]
     },
     "metadata": {},
     "execution_count": 18
    }
   ],
   "source": [
    "soup.select('.c1')"
   ]
  },
  {
   "source": [
    "ID Selector"
   ],
   "cell_type": "markdown",
   "metadata": {}
  },
  {
   "cell_type": "code",
   "execution_count": 38,
   "metadata": {},
   "outputs": [
    {
     "output_type": "execute_result",
     "data": {
      "text/plain": [
       "[<div class=\"c2\" id=\"id1\">여기는 c2 클래스, 아이디는 id1입니다.</div>]"
      ]
     },
     "metadata": {},
     "execution_count": 38
    }
   ],
   "source": [
    "soup.select('#id1')"
   ]
  },
  {
   "source": [
    "여러 요소를 함께 선택"
   ],
   "cell_type": "markdown",
   "metadata": {}
  },
  {
   "cell_type": "code",
   "execution_count": 40,
   "metadata": {},
   "outputs": [
    {
     "output_type": "execute_result",
     "data": {
      "text/plain": [
       "[<div class=\"c1\">여기는 c1 클래스입니다.</div>,\n",
       " <div class=\"c1\">여기도 c1 클래스입니다.</div>,\n",
       " <div class=\"c2\">여기는 c2 클래스입니다.</div>,\n",
       " <div class=\"c2\" id=\"id1\">여기는 c2 클래스, 아이디는 id1입니다.</div>]"
      ]
     },
     "metadata": {},
     "execution_count": 40
    }
   ],
   "source": [
    "# class='c1' 또는 'c2 element\n",
    "\n",
    "soup.select('.c1,.c2')"
   ]
  },
  {
   "cell_type": "code",
   "execution_count": 41,
   "metadata": {},
   "outputs": [
    {
     "output_type": "execute_result",
     "data": {
      "text/plain": [
       "[<div class=\"c1\">여기는 c1 클래스입니다.</div>,\n",
       " <div class=\"c1\">여기도 c1 클래스입니다.</div>,\n",
       " <div class=\"c2\" id=\"id1\">여기는 c2 클래스, 아이디는 id1입니다.</div>]"
      ]
     },
     "metadata": {},
     "execution_count": 41
    }
   ],
   "source": [
    "soup.select('.c1,#id1')"
   ]
  },
  {
   "source": [
    "Traversing"
   ],
   "cell_type": "markdown",
   "metadata": {}
  },
  {
   "cell_type": "code",
   "execution_count": 25,
   "metadata": {},
   "outputs": [
    {
     "output_type": "execute_result",
     "data": {
      "text/plain": [
       "<!DOCTYPE html>\n",
       "<html lang=\"en\"><head>\n",
       "    <meta charset=\"utf-8\"/>\n",
       "    <title>Web 3</title>\n",
       "    <!--\n",
       "        HTML: 웹 페이지의 컨텐트\n",
       "        CSS: 웹 페이지의 스타일(폰트, 글자색, 바탕색, 배치, ...)\n",
       "     -->\n",
       "    <style>\n",
       "        /* CSS 주석\n",
       "        css-selector {\n",
       "            attr_name: attr_values;\n",
       "        }\n",
       "\n",
       "        css selector: HTML 요소(element)를 찾는 방법\n",
       "        1) HTML 태그 이름\n",
       "        2) .클래스\n",
       "        3) #아이디\n",
       "        4) pseudo selector: 이벤트\n",
       "        5) selector1, selector2, ...: 여러개의 요소에 같은 스타일을 적용\n",
       "        6) parent child: 조상 요소 아래의 자손 요소에 스타일을 적용\n",
       "        7) parent > child: 바로 아래 자식 요소에 스타일 적용\n",
       "        */\n",
       "\n",
       "        /* HTML 문서의 모든 li 태그 요소에 스타일 적용 */\n",
       "        li {\n",
       "            list-style-type: none;  /* bullet 이미지를 없앰. */\n",
       "            display: inline-block;  /* inline 속성과 block 속성을 모두 갖음. */\n",
       "            width: 80px;\n",
       "            border: 1px solid black;\n",
       "            padding: 4px;\n",
       "        }\n",
       "\n",
       "        /* HTML 문서의 모든 a 태그에 스타일 적용 */\n",
       "        a {\n",
       "            text-decoration: none;  /* 링크의 밑줄을 제거 */\n",
       "            font-weight: bold;  /* 폰트를 bold체로 */\n",
       "        }\n",
       "\n",
       "        /* HTML 문서의 모든 a 태그들 중 방문했던 링크들에 스타일 적용 */\n",
       "        a:visited {\n",
       "            color: black;  /* 글자색을 검은색으로 */\n",
       "        }\n",
       "\n",
       "        /* HTML 문서의 모든 c1 클래스를 찾아서 스타일 적용 */\n",
       "        .c1 {\n",
       "            border: 2px solid gray;\n",
       "            margin: 16px;\n",
       "            padding: 8px;\n",
       "        }\n",
       "\n",
       "        .c2 {\n",
       "            border: 2px dashed black;\n",
       "            margin: 16px;\n",
       "            padding: 8px;\n",
       "        }\n",
       "\n",
       "        /* HTML 문서에서 아이디가 id1인 요소를 찾아서 스타일 적용 */\n",
       "        #id1 {\n",
       "            color: blue;\n",
       "            font-weight: bold;\n",
       "        }\n",
       "    </style>\n",
       "</head>\n",
       "<body>\n",
       "    <h1>CSS(Cascade Style Sheet)</h1>\n",
       "    <ul class=\"menu\"> <!-- unordered list -->\n",
       "        <li class=\"menu_item\">  <!-- list item -->\n",
       "            <a href=\"https://www.daum.net/\">다음</a>\n",
       "        </li>\n",
       "        <li class=\"menu_item\">  <!-- list item -->\n",
       "            <a href=\"https://www.naver.com/\">네이버</a>\n",
       "        </li>\n",
       "        <li class=\"menu_item\">  <!-- list item -->\n",
       "            <a href=\"https://www.google.com/\">구글</a>\n",
       "        </li>\n",
       "    </ul>\n",
       "\n",
       "    <div class=\"c1\">여기는 c1 클래스입니다.</div>\n",
       "    <div class=\"c1\">여기도 c1 클래스입니다.</div>\n",
       "    <div class=\"c2\">여기는 c2 클래스입니다.</div>\n",
       "    <div class=\"c2\" id=\"id1\">여기는 c2 클래스, 아이디는 id1입니다.</div>\n",
       "\n",
       "\n",
       "\n",
       "</body></html>"
      ]
     },
     "metadata": {},
     "execution_count": 25
    }
   ],
   "source": [
    "soup"
   ]
  },
  {
   "cell_type": "code",
   "execution_count": 27,
   "metadata": {},
   "outputs": [
    {
     "output_type": "execute_result",
     "data": {
      "text/plain": [
       "[<a href=\"https://www.daum.net/\">다음</a>,\n",
       " <a href=\"https://www.naver.com/\">네이버</a>,\n",
       " <a href=\"https://www.google.com/\">구글</a>]"
      ]
     },
     "metadata": {},
     "execution_count": 27
    }
   ],
   "source": [
    "# 조상(ancestor)element 아래의 자손(descendent)element를 선택\n",
    "#> class='menu' 인 element 자손들 중에서 'a' 태그 element를 선택\n",
    "soup.select('.menu a')"
   ]
  },
  {
   "cell_type": "code",
   "execution_count": 28,
   "metadata": {},
   "outputs": [
    {
     "output_type": "execute_result",
     "data": {
      "text/plain": [
       "[<a href=\"https://www.daum.net/\">다음</a>,\n",
       " <a href=\"https://www.naver.com/\">네이버</a>,\n",
       " <a href=\"https://www.google.com/\">구글</a>]"
      ]
     },
     "metadata": {},
     "execution_count": 28
    }
   ],
   "source": [
    "# 부모(parent) element 바로 아래의 자식(child) element를 선택\n",
    "#> class='menu' element 바로 아래 class='menu_item' element 바로 아래에 있는 'a' 태그 element를 선택\n",
    "soup.select('.menu > .menu_item > a')"
   ]
  },
  {
   "source": [
    "Pseudo Selector"
   ],
   "cell_type": "markdown",
   "metadata": {}
  },
  {
   "cell_type": "code",
   "execution_count": 46,
   "metadata": {},
   "outputs": [
    {
     "output_type": "execute_result",
     "data": {
      "text/plain": [
       "[<a href=\"https://www.daum.net/\">다음</a>,\n",
       " <a href=\"https://www.naver.com/\">네이버</a>,\n",
       " <a href=\"https://www.google.com/\">구글</a>]"
      ]
     },
     "metadata": {},
     "execution_count": 46
    }
   ],
   "source": [
    "soup.select('a')"
   ]
  },
  {
   "cell_type": "code",
   "execution_count": 53,
   "metadata": {},
   "outputs": [
    {
     "output_type": "execute_result",
     "data": {
      "text/plain": [
       "[<a href=\"https://www.daum.net/\">다음</a>,\n",
       " <a href=\"https://www.naver.com/\">네이버</a>,\n",
       " <a href=\"https://www.google.com/\">구글</a>]"
      ]
     },
     "metadata": {},
     "execution_count": 53
    }
   ],
   "source": [
    "soup.select('a:nth-of-type(1)')"
   ]
  },
  {
   "source": [
    "Tag.Class#ID"
   ],
   "cell_type": "markdown",
   "metadata": {}
  },
  {
   "cell_type": "code",
   "execution_count": 30,
   "metadata": {},
   "outputs": [
    {
     "output_type": "execute_result",
     "data": {
      "text/plain": [
       "[<div class=\"c1\">여기는 c1 클래스입니다.</div>, <div class=\"c1\">여기도 c1 클래스입니다.</div>]"
      ]
     },
     "metadata": {},
     "execution_count": 30
    }
   ],
   "source": [
    "# tag name = 'div' 이고 class = 'c1'\n",
    "soup.select('div.c1')"
   ]
  },
  {
   "cell_type": "code",
   "execution_count": 31,
   "metadata": {},
   "outputs": [
    {
     "output_type": "execute_result",
     "data": {
      "text/plain": [
       "[<div class=\"c2\" id=\"id1\">여기는 c2 클래스, 아이디는 id1입니다.</div>]"
      ]
     },
     "metadata": {},
     "execution_count": 31
    }
   ],
   "source": [
    "# tag name = 'div' 이고 id = 'id1'\n",
    "soup.select('div#id1')"
   ]
  },
  {
   "cell_type": "code",
   "execution_count": 33,
   "metadata": {},
   "outputs": [],
   "source": [
    "f.close()"
   ]
  }
 ]
}