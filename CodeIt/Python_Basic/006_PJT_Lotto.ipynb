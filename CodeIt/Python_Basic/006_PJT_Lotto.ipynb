{
 "metadata": {
  "language_info": {
   "codemirror_mode": {
    "name": "ipython",
    "version": 3
   },
   "file_extension": ".py",
   "mimetype": "text/x-python",
   "name": "python",
   "nbconvert_exporter": "python",
   "pygments_lexer": "ipython3",
   "version": "3.8.2"
  },
  "orig_nbformat": 2,
  "kernelspec": {
   "name": "python382jvsc74a57bd031f2aee4e71d21fbe5cf8b01ff0e069b9275f58929596ceb00d14d90e3e16cd6",
   "display_name": "Python 3.8.2 64-bit"
  },
  "metadata": {
   "interpreter": {
    "hash": "31f2aee4e71d21fbe5cf8b01ff0e069b9275f58929596ceb00d14d90e3e16cd6"
   }
  }
 },
 "nbformat": 4,
 "nbformat_minor": 2,
 "cells": [
  {
   "cell_type": "code",
   "execution_count": 28,
   "metadata": {},
   "outputs": [
    {
     "output_type": "execute_result",
     "data": {
      "text/plain": [
       "[29, 10, 3, 22, 42]"
      ]
     },
     "metadata": {},
     "execution_count": 28
    }
   ],
   "source": [
    "from random import randint\n",
    "\n",
    "\n",
    "def generate_numbers(n):\n",
    "    # 코드를 작성하세요.\n",
    "    num = []\n",
    "    for i in range(n):\n",
    "        a = randint(1,46)\n",
    "        if a not in num:\n",
    "            num.append(a)\n",
    "        \n",
    "    return list(num)\n",
    "    \n",
    "generate_numbers(6)"
   ]
  },
  {
   "cell_type": "code",
   "execution_count": 29,
   "metadata": {},
   "outputs": [
    {
     "output_type": "execute_result",
     "data": {
      "text/plain": [
       "[17, 19, 30, 40, 43, 45, 4]"
      ]
     },
     "metadata": {},
     "execution_count": 29
    }
   ],
   "source": [
    "def draw_winning_numbers():\n",
    "    # 코드를 작성하세요.\n",
    "    win = []\n",
    "    while len(win) < 7:\n",
    "        a = randint(1,45)\n",
    "        if len(win) < 6:\n",
    "            if a not in win:\n",
    "                win.append(a)\n",
    "        else:\n",
    "            win = sorted(win)\n",
    "            if a not in win:\n",
    "                win.append(a)\n",
    "    return list(win)  \n",
    "\n",
    "draw_winning_numbers()"
   ]
  },
  {
   "cell_type": "code",
   "execution_count": 27,
   "metadata": {},
   "outputs": [
    {
     "output_type": "execute_result",
     "data": {
      "text/plain": [
       "34"
      ]
     },
     "metadata": {},
     "execution_count": 27
    }
   ],
   "source": [
    "draw_winning_numbers()[-1]"
   ]
  },
  {
   "cell_type": "code",
   "execution_count": 31,
   "metadata": {},
   "outputs": [
    {
     "output_type": "stream",
     "name": "stdout",
     "text": [
      "3\n1\n"
     ]
    }
   ],
   "source": [
    "def count_matching_numbers(list_1, list_2):\n",
    "    # 코드를 작성하세요.\n",
    "    i = 0\n",
    "    for j in list_1:\n",
    "        if j in list_2:\n",
    "            i += 1\n",
    "    return i\n",
    "    \n",
    "\n",
    "# 테스트\n",
    "print(count_matching_numbers([2, 7, 11, 14, 25, 40], [2, 11, 13, 14, 30, 35]))\n",
    "print(count_matching_numbers([2, 7, 11, 14, 25, 40], [14]))"
   ]
  },
  {
   "cell_type": "code",
   "execution_count": 32,
   "metadata": {},
   "outputs": [
    {
     "output_type": "stream",
     "name": "stdout",
     "text": [
      "5000\n50000000\n"
     ]
    }
   ],
   "source": [
    "def check(numbers, winning_numbers):\n",
    "    # 코드를 작성하세요.\n",
    "    a = count_matching_numbers(numbers,winning_numbers)\n",
    "    b = count_matching_numbers(numbers,winning_numbers[:5])\n",
    "    if a > 5 :\n",
    "        if winning_numbers[-1] not in numbers:\n",
    "            earn = 1000000000\n",
    "        else:\n",
    "            earn = 50000000\n",
    "    elif b > 4 :\n",
    "        earn = 1000000\n",
    "    elif b > 3 :\n",
    "        earn = 50000\n",
    "    elif b > 2:\n",
    "        earn = 5000\n",
    "    else:\n",
    "        earn = 0\n",
    "    return earn\n",
    "\n",
    "    \n",
    "\n",
    "# 테스트\n",
    "print(check([2, 4, 11, 14, 25, 40], [4, 12, 14, 28, 40, 41, 6]))\n",
    "print(check([2, 4, 11, 14, 25, 40], [2, 4, 10, 11, 14, 40, 25]))"
   ]
  },
  {
   "cell_type": "code",
   "execution_count": null,
   "metadata": {},
   "outputs": [],
   "source": []
  }
 ]
}