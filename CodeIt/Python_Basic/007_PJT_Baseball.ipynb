{
 "metadata": {
  "language_info": {
   "codemirror_mode": {
    "name": "ipython",
    "version": 3
   },
   "file_extension": ".py",
   "mimetype": "text/x-python",
   "name": "python",
   "nbconvert_exporter": "python",
   "pygments_lexer": "ipython3",
   "version": "3.8.2"
  },
  "orig_nbformat": 2,
  "kernelspec": {
   "name": "python382jvsc74a57bd031f2aee4e71d21fbe5cf8b01ff0e069b9275f58929596ceb00d14d90e3e16cd6",
   "display_name": "Python 3.8.2 64-bit"
  },
  "metadata": {
   "interpreter": {
    "hash": "31f2aee4e71d21fbe5cf8b01ff0e069b9275f58929596ceb00d14d90e3e16cd6"
   }
  }
 },
 "nbformat": 4,
 "nbformat_minor": 2,
 "cells": [
  {
   "source": [
    "# 규칙\n",
    "컴퓨터는 0과 9 사이의 서로 다른 숫자 3개를 무작위로 뽑습니다. \n",
    "\n",
    "     예를 들어서 컴퓨터가 5, 2, 3을 뽑을 수도 있고 6, 7, 4를 뽑을 수도 있는 거죠.\n",
    "\n",
    "사용자는 컴퓨터가 뽑은 숫자의 값과 위치를 맞추어야 합니다.\n",
    "\n",
    "컴퓨터는 사용자가 입력한 숫자 3개에 대해서, 아래의 규칙대로 스트라이크(S)와 볼(B)의 개수를 알려줍니다.\n",
    "\n",
    "숫자의 값과 위치가 모두 일치하면 S입니다.\n",
    "\n",
    "숫자의 값은 일치하지만 위치가 틀렸으면 B입니다.\n",
    "    \n",
    "     예를 들어 컴퓨터가 1, 2, 3을 뽑았다고 가정합시다. \n",
    "     사용자가 1, 3, 5를 입력하면, 1S(1의 값과 위치가 일치) 1B(3의 값만 일치)입니다.\n",
    "\n",
    "기회는 무제한입니다. 하지만 몇 번의 시도 끝에 맞췄는지 기록됩니다.\n",
    "\n",
    "3S(숫자 3개의 값과 위치를 모두 맞춘 경우)가 나오면 게임이 끝납니다.\n"
   ],
   "cell_type": "markdown",
   "metadata": {}
  },
  {
   "source": [
    "# 진행 방식\n",
    "\n",
    "1. \"0과 9 사이의 서로 다른 숫자 3개를 랜덤한 순서로 뽑았습니다.\"가 출력됩니다.\n",
    "\n",
    "2. \"숫자 3개를 하나씩 차례대로 입력하세요.\"가 출력됩니다.\n",
    "\n",
    "3. \"1번째 숫자를 입력하세요: \"가 출력되고, 사용자로부터 입력을 받습니다. 마찬가지로 \"2번째 숫자를 입력하세요: \"와 \"3번째 숫자를 입력하세요: \"가 출력되고, \n",
    "\n",
    "   사용자로부터 각각 입력을 받습니다. \n",
    "\n",
    "   만약 사용자가 중복되는 숫자를 입력하거나 범위에서 벗어나는 숫자를 입력하면, 사용자로부터 입력을 다시 받습니다.\n",
    "\n",
    "4. 사용자가 올바르게 숫자 3개를 입력하면, 규칙에 따라 \"*S *B\"가 출력됩니다.\n",
    "\n",
    "5. 3S가 아닌 경우, 2번부터 다시 진행합니다.\n",
    "6. 사용자가 3S를 달성하면, \"축하합니다. *번 만에 숫자 3개의 값과 위치를 모두 맞추셨습니다.\"가 출력됩니다. 그리고 게임은 종료됩니다."
   ],
   "cell_type": "markdown",
   "metadata": {}
  },
  {
   "cell_type": "code",
   "execution_count": 14,
   "metadata": {},
   "outputs": [],
   "source": [
    "from random import randint\n",
    "\n",
    "def generate_numbers():\n",
    "\n",
    "    numbers = []\n",
    "    while len(numbers) < 3:\n",
    "        a = randint(0,9)\n",
    "        if a not in numbers:\n",
    "            numbers.append(a)\n",
    "\n",
    "    print(\"0과 9 사이의 서로 다른 숫자 3개를 랜덤한 순서로 뽑았습니다.\\n\")       \n",
    "    return numbers    "
   ]
  },
  {
   "cell_type": "code",
   "execution_count": 16,
   "metadata": {},
   "outputs": [
    {
     "output_type": "stream",
     "name": "stdout",
     "text": [
      "0과 9 사이의 서로 다른 숫자 3개를 랜덤한 순서로 뽑았습니다.\n\n"
     ]
    },
    {
     "output_type": "execute_result",
     "data": {
      "text/plain": [
       "[2, 8, 1]"
      ]
     },
     "metadata": {},
     "execution_count": 16
    }
   ],
   "source": [
    "generate_numbers()"
   ]
  },
  {
   "cell_type": "code",
   "execution_count": 26,
   "metadata": {},
   "outputs": [],
   "source": [
    "def take_guess():\n",
    "    print(\"숫자 3개를 하나씩 차례대로 입력하세요.\")\n",
    "    \n",
    "    new_guess = []\n",
    "    # 코드를 작성하세요.\n",
    "    i = 1\n",
    "    while len(new_guess) < 3:\n",
    "        \n",
    "        guess = int(input(f'{i}번째 숫자를 입력하세요.'))\n",
    "\n",
    "        if guess not in range(1,10):\n",
    "            print('범위를 벗어나는 숫자입니다. 다시 입력하세요')\n",
    "        elif guess in new_guess:\n",
    "            print('중복되는 숫자입니다. 다시 입력하세요.')\n",
    "        else:\n",
    "            new_guess.append(guess)\n",
    "            i += 1\n",
    "    return new_guess"
   ]
  },
  {
   "cell_type": "code",
   "execution_count": 30,
   "metadata": {},
   "outputs": [
    {
     "output_type": "stream",
     "name": "stdout",
     "text": [
      "숫자 3개를 하나씩 차례대로 입력하세요.\n"
     ]
    },
    {
     "output_type": "execute_result",
     "data": {
      "text/plain": [
       "list"
      ]
     },
     "metadata": {},
     "execution_count": 30
    }
   ],
   "source": [
    "a = take_guess()\n",
    "type(a)"
   ]
  },
  {
   "cell_type": "code",
   "execution_count": 2,
   "metadata": {},
   "outputs": [
    {
     "output_type": "stream",
     "name": "stdout",
     "text": [
      "1 2\n0 3\n2 0\n3 0\n"
     ]
    }
   ],
   "source": [
    "# 숫자의 값과 위치가 모두 일치하면 S입니다.\n",
    "# 숫자의 값은 일치하지만 위치가 틀렸으면 B입니다.\n",
    "\n",
    "def get_score(guess, solution):\n",
    "    strike_count = 0\n",
    "    ball_count = 0\n",
    "\n",
    "    # 코드를 작성하세요.\n",
    "    # for i in range(3):\n",
    "    #     for j in range(3):\n",
    "    #         if guess[i] == solution[j]:\n",
    "    #             if i == j:\n",
    "    #                 strike_count += 1\n",
    "    #             else:\n",
    "    #                 ball_count += 1\n",
    "\n",
    "    for i in range(3):\n",
    "        if guess[i] == solution[i]:\n",
    "            strike_count += 1\n",
    "        elif guess[i] in solution:\n",
    "            ball_count += 1\n",
    "         \n",
    "    return strike_count, ball_count\n",
    "\n",
    "\n",
    "# 테스트\n",
    "s_1, b_1 = get_score([2, 7, 4], [2, 4, 7])\n",
    "print(s_1, b_1)\n",
    "\n",
    "s_2, b_2 = get_score([7, 2, 4], [2, 4, 7])\n",
    "print(s_2, b_2)\n",
    "\n",
    "s_3, b_3 = get_score([0, 4, 7], [2, 4, 7])\n",
    "print(s_3, b_3)\n",
    "\n",
    "s_4, b_4 = get_score([2, 4, 7], [2, 4, 7])\n",
    "print(s_4, b_4)"
   ]
  },
  {
   "cell_type": "code",
   "execution_count": null,
   "metadata": {},
   "outputs": [],
   "source": []
  }
 ]
}