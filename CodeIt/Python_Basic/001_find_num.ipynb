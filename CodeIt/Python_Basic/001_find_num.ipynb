{
 "metadata": {
  "language_info": {
   "codemirror_mode": {
    "name": "ipython",
    "version": 3
   },
   "file_extension": ".py",
   "mimetype": "text/x-python",
   "name": "python",
   "nbconvert_exporter": "python",
   "pygments_lexer": "ipython3",
   "version": "3.8.8"
  },
  "orig_nbformat": 2,
  "kernelspec": {
   "name": "python388jvsc74a57bd0dddb17ea93c18165eccab44a79c5ce0b5c677e2de303579c5906a1a0ad969dde",
   "display_name": "Python 3.8.8 64-bit"
  },
  "metadata": {
   "interpreter": {
    "hash": "dddb17ea93c18165eccab44a79c5ce0b5c677e2de303579c5906a1a0ad969dde"
   }
  }
 },
 "nbformat": 4,
 "nbformat_minor": 2,
 "cells": [
  {
   "cell_type": "code",
   "execution_count": 50,
   "metadata": {},
   "outputs": [
    {
     "output_type": "stream",
     "name": "stdout",
     "text": [
      "UP\n",
      "Down\n",
      "Down\n",
      "축하합니다. 4번 만에 숫자를 맞히셨습니다.\n"
     ]
    }
   ],
   "source": [
    "import random\n",
    "num = random.randint(1,21)\n",
    "i = 1\n",
    "\n",
    "while i < 5:\n",
    "    cus = int(input(f\"기회가 {5-i}번 남았습니다. 1-20 사이의 숫자를 맞혀보세요:\"))\n",
    "\n",
    "    if cus == num:\n",
    "        print(f'축하합니다. {i}번 만에 숫자를 맞히셨습니다.')\n",
    "        break\n",
    "    \n",
    "    if i < 4:\n",
    "        if cus < num:\n",
    "            print(\"UP\")\n",
    "        elif cus > num:\n",
    "            print(\"Down\")\n",
    "    \n",
    "    i += 1\n",
    "    if i == 5:\n",
    "        print(f\"아쉽습니다. 정답은 {num}였습니다.\")"
   ]
  },
  {
   "cell_type": "code",
   "execution_count": null,
   "metadata": {},
   "outputs": [],
   "source": []
  }
 ]
}