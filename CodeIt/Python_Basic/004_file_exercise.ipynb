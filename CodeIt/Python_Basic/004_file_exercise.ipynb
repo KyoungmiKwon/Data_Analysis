{
 "metadata": {
  "language_info": {
   "codemirror_mode": {
    "name": "ipython",
    "version": 3
   },
   "file_extension": ".py",
   "mimetype": "text/x-python",
   "name": "python",
   "nbconvert_exporter": "python",
   "pygments_lexer": "ipython3",
   "version": "3.8.8"
  },
  "orig_nbformat": 2,
  "kernelspec": {
   "name": "python388jvsc74a57bd0dddb17ea93c18165eccab44a79c5ce0b5c677e2de303579c5906a1a0ad969dde",
   "display_name": "Python 3.8.8 64-bit"
  },
  "metadata": {
   "interpreter": {
    "hash": "dddb17ea93c18165eccab44a79c5ce0b5c677e2de303579c5906a1a0ad969dde"
   }
  }
 },
 "nbformat": 4,
 "nbformat_minor": 2,
 "cells": [
  {
   "cell_type": "code",
   "execution_count": 1,
   "metadata": {},
   "outputs": [
    {
     "output_type": "stream",
     "name": "stdout",
     "text": [
      "맞았습니다!\n",
      "맞았습니다!\n",
      "맞았습니다!\n"
     ]
    }
   ],
   "source": [
    "with open('003_file_exercise.txt','r',encoding = 'utf-8') as f:\n",
    "    for line in f:\n",
    "        a = line.split(':')\n",
    "        ans = input(f'{a[1].strip()}:')\n",
    "        if ans == a[0]:\n",
    "            print(\"맞았습니다!\")\n",
    "        else:\n",
    "            print(f'아쉽습니다. 정답은 {a[0]} 입니다.')"
   ]
  },
  {
   "cell_type": "code",
   "execution_count": 2,
   "metadata": {},
   "outputs": [
    {
     "output_type": "stream",
     "name": "stdout",
     "text": [
      "맞았습니다!\n",
      "맞았습니다!\n",
      "아쉽습니다. 정답은 church 입니다.\n"
     ]
    }
   ],
   "source": [
    "with open('003_file_exercise.txt','r',encoding = 'utf-8') as f:\n",
    "    for line in f:\n",
    "        a = line.strip().split(':')\n",
    "        eng, kor = a[0], a[1]\n",
    "        ans = input(f'{kor}:')\n",
    "        if ans == eng:\n",
    "            print(\"맞았습니다!\")\n",
    "        else:\n",
    "            print(f'아쉽습니다. 정답은 {eng} 입니다.')"
   ]
  },
  {
   "cell_type": "code",
   "execution_count": null,
   "metadata": {},
   "outputs": [],
   "source": []
  }
 ]
}