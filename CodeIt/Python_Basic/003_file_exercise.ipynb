{
 "metadata": {
  "language_info": {
   "codemirror_mode": {
    "name": "ipython",
    "version": 3
   },
   "file_extension": ".py",
   "mimetype": "text/x-python",
   "name": "python",
   "nbconvert_exporter": "python",
   "pygments_lexer": "ipython3",
   "version": "3.8.8"
  },
  "orig_nbformat": 2,
  "kernelspec": {
   "name": "python388jvsc74a57bd0dddb17ea93c18165eccab44a79c5ce0b5c677e2de303579c5906a1a0ad969dde",
   "display_name": "Python 3.8.8 64-bit"
  },
  "metadata": {
   "interpreter": {
    "hash": "dddb17ea93c18165eccab44a79c5ce0b5c677e2de303579c5906a1a0ad969dde"
   }
  }
 },
 "nbformat": 4,
 "nbformat_minor": 2,
 "cells": [
  {
   "cell_type": "code",
   "execution_count": 1,
   "metadata": {},
   "outputs": [],
   "source": [
    "while True:\n",
    "    wrd = input(\"영어 단어를 입력하세요\")\n",
    "    if wrd == 'q':\n",
    "        break\n",
    "\n",
    "    mn = input(\"한국어 뜻을 입력하세요\")\n",
    "    if wrd == 'q':\n",
    "        break\n",
    "\n",
    "    else:\n",
    "        with open('003_file_exercise.txt','a',encoding='utf-8') as f:\n",
    "            f.write(f'{wrd}:  {mn}\\n')"
   ]
  },
  {
   "cell_type": "code",
   "execution_count": null,
   "metadata": {},
   "outputs": [],
   "source": []
  }
 ]
}