{
 "metadata": {
  "language_info": {
   "codemirror_mode": {
    "name": "ipython",
    "version": 3
   },
   "file_extension": ".py",
   "mimetype": "text/x-python",
   "name": "python",
   "nbconvert_exporter": "python",
   "pygments_lexer": "ipython3",
   "version": "3.8.8"
  },
  "orig_nbformat": 2,
  "kernelspec": {
   "name": "python388jvsc74a57bd0dddb17ea93c18165eccab44a79c5ce0b5c677e2de303579c5906a1a0ad969dde",
   "display_name": "Python 3.8.8 64-bit"
  },
  "metadata": {
   "interpreter": {
    "hash": "dddb17ea93c18165eccab44a79c5ce0b5c677e2de303579c5906a1a0ad969dde"
   }
  }
 },
 "nbformat": 4,
 "nbformat_minor": 2,
 "cells": [
  {
   "cell_type": "code",
   "execution_count": 2,
   "metadata": {},
   "outputs": [
    {
     "output_type": "stream",
     "name": "stdout",
     "text": [
      "맞았습니다!\n",
      "맞았습니다!\n",
      "맞았습니다!\n",
      "맞았습니다!\n",
      "맞았습니다!\n",
      "맞았습니다!\n",
      "맞았습니다!\n",
      "맞았습니다!\n",
      "틀렸습니다. 정답은 cat 입니다.\n"
     ]
    }
   ],
   "source": [
    "import random\n",
    "\n",
    "# 단어사전에서 자료 불러오기\n",
    "vocab = {}\n",
    "with open('003_file_exercise.txt','r',encoding = 'utf-8') as f:\n",
    "    for line in f:\n",
    "        a = line.strip().split(':')\n",
    "        eng, kor = a[0], a[1]\n",
    "        vocab[kor.strip()] = eng\n",
    "\n",
    "# 단어사전에서 한국어 뜻만 불러오기\n",
    "kors = list(vocab.keys())\n",
    "\n",
    "# 뜻을 보고 랜덤하게 단어 맞추는 퀴즈 프로그램\n",
    "# \"q\" 입력 시 종료\n",
    "while True:\n",
    "    i = random.choice(kors)\n",
    "    ans = input(f\"{i}:\")\n",
    "    eng = vocab[i]\n",
    "    if ans != \"q\":\n",
    "        if ans == eng:\n",
    "            print(\"맞았습니다!\")\n",
    "        else:\n",
    "            print(f'틀렸습니다. 정답은 {eng} 입니다.')\n",
    "    else:\n",
    "        break"
   ]
  },
  {
   "cell_type": "code",
   "execution_count": null,
   "metadata": {},
   "outputs": [],
   "source": []
  }
 ]
}