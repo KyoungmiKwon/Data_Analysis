{
 "metadata": {
  "language_info": {
   "codemirror_mode": {
    "name": "ipython",
    "version": 3
   },
   "file_extension": ".py",
   "mimetype": "text/x-python",
   "name": "python",
   "nbconvert_exporter": "python",
   "pygments_lexer": "ipython3",
   "version": "3.8.8"
  },
  "orig_nbformat": 2,
  "kernelspec": {
   "name": "python388jvsc74a57bd0dddb17ea93c18165eccab44a79c5ce0b5c677e2de303579c5906a1a0ad969dde",
   "display_name": "Python 3.8.8 64-bit"
  },
  "metadata": {
   "interpreter": {
    "hash": "dddb17ea93c18165eccab44a79c5ce0b5c677e2de303579c5906a1a0ad969dde"
   }
  }
 },
 "nbformat": 4,
 "nbformat_minor": 2,
 "cells": [
  {
   "cell_type": "code",
   "execution_count": null,
   "metadata": {},
   "outputs": [],
   "source": [
    "with open('data/chicken.txt','r') as f:\n",
    "    for line in f:\n",
    "        print(line.strip())"
   ]
  },
  {
   "cell_type": "code",
   "execution_count": 2,
   "metadata": {},
   "outputs": [
    {
     "output_type": "execute_result",
     "data": {
      "text/plain": [
       "'abc   def'"
      ]
     },
     "metadata": {},
     "execution_count": 2
    }
   ],
   "source": [
    "# strip\n",
    "\"          \\t  \\n                      abc   def \".strip()"
   ]
  },
  {
   "cell_type": "code",
   "execution_count": 6,
   "metadata": {},
   "outputs": [
    {
     "output_type": "stream",
     "name": "stdout",
     "text": [
      "['1', ' 2', ' 3', ' 4', ' 5', ' 6']\n['1', '2', '3', '4', '5', '6']\n"
     ]
    }
   ],
   "source": [
    "# split_1\n",
    "my_string = \"1. 2. 3. 4. 5. 6\"\n",
    "print(my_string.split(\".\"))\n",
    "print(my_string.split(\". \"))"
   ]
  },
  {
   "cell_type": "code",
   "execution_count": 7,
   "metadata": {},
   "outputs": [
    {
     "output_type": "stream",
     "name": "stdout",
     "text": [
      "['Kwon', 'Kyoungmi']\nKyoungmi Kwon\n"
     ]
    }
   ],
   "source": [
    "# split_2\n",
    "full_name = \"Kwon, Kyoungmi\"\n",
    "name_data = full_name.split(\", \")\n",
    "print(name_data)\n",
    "last_name = name_data[0]\n",
    "first_name = name_data[1]\n",
    "print(first_name, last_name)"
   ]
  },
  {
   "cell_type": "code",
   "execution_count": 9,
   "metadata": {},
   "outputs": [
    {
     "output_type": "execute_result",
     "data": {
      "text/plain": [
       "['2', '3', '5', '7', '11']"
      ]
     },
     "metadata": {},
     "execution_count": 9
    }
   ],
   "source": [
    "'   \\n\\n   2 \\t   3 \\n  5 7    11 \\n\\n'.split()"
   ]
  },
  {
   "cell_type": "code",
   "execution_count": 15,
   "metadata": {},
   "outputs": [
    {
     "output_type": "stream",
     "name": "stdout",
     "text": [
      "23\n5\n"
     ]
    }
   ],
   "source": [
    "numbers = '   \\n\\n   2 \\t   3 \\n  5 7    11 \\n\\n'.split()\n",
    "print(numbers[0]+numbers[1]) #> split의 결과가 str 임에 주의\n",
    "print(int(numbers[0])+int(numbers[1]))"
   ]
  },
  {
   "cell_type": "code",
   "execution_count": 19,
   "metadata": {},
   "outputs": [],
   "source": [
    "with open('002_file_open_new_file.txt','w') as f: # overwrite 됨\n",
    "    f.write(\"hello\")\n",
    "    f.write('Ashley\\n')\n",
    "    f.write(\"hello\\n\")\n",
    "    f.write('Ashley\\n')"
   ]
  },
  {
   "cell_type": "code",
   "execution_count": 18,
   "metadata": {},
   "outputs": [],
   "source": [
    "with open('002_file_open_new_file.txt','a') as f:\n",
    "    f.write(\"hello\")\n",
    "    f.write('Ashley\\n')\n",
    "    f.write(\"hello\\n\")\n",
    "    f.write('Ashley')"
   ]
  },
  {
   "cell_type": "code",
   "execution_count": null,
   "metadata": {},
   "outputs": [],
   "source": []
  }
 ]
}